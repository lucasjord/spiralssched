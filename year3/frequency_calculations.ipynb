{
 "cells": [
  {
   "cell_type": "code",
   "execution_count": 1,
   "metadata": {},
   "outputs": [],
   "source": [
    "import numpy as np, matplotlib.pyplot as plt\n",
    "import matplotlib.patches as patches"
   ]
  },
  {
   "cell_type": "code",
   "execution_count": 162,
   "metadata": {},
   "outputs": [],
   "source": [
    "LO_cd = 7300\n",
    "LO_ho = 7000\n",
    "LO_wa = -5843\n",
    "LO_12 = -6000\n",
    "\n",
    "ny1 = np.array([ 10,512])\n",
    "ny2 = np.array([512,1024])\n",
    "ny  = [ny1,ny2] \n",
    "\n",
    "rest_freq = 6668\n",
    "\n",
    "LOs = [LO_cd,LO_ho,LO_wa]\n",
    "\n",
    "#edge = np.array([6588+32,6652+32])\n",
    "edge = np.array([6660])"
   ]
  },
  {
   "cell_type": "code",
   "execution_count": 163,
   "metadata": {},
   "outputs": [
    {
     "data": {
      "text/plain": [
       "array([-8])"
      ]
     },
     "execution_count": 163,
     "metadata": {},
     "output_type": "execute_result"
    }
   ],
   "source": [
    "edge-rest_freq"
   ]
  },
  {
   "cell_type": "code",
   "execution_count": 164,
   "metadata": {},
   "outputs": [
    {
     "name": "stdout",
     "output_type": "stream",
     "text": [
      "[640]\n",
      "[340]\n",
      "[817]\n"
     ]
    }
   ],
   "source": [
    "for lo in LOs:\n",
    "    print([s for s in abs(edge-np.sign(lo)*lo)])"
   ]
  },
  {
   "cell_type": "code",
   "execution_count": 168,
   "metadata": {},
   "outputs": [
    {
     "data": {
      "text/plain": [
       "array([-640])"
      ]
     },
     "execution_count": 168,
     "metadata": {},
     "output_type": "execute_result"
    },
    {
     "data": {
      "image/png": "[encoded data removed]",
      "text/plain": [
       "<Figure size 720x216 with 1 Axes>"
      ]
     },
     "metadata": {
      "needs_background": "light"
     },
     "output_type": "display_data"
    }
   ],
   "source": [
    "fig, ax = plt.subplots(1,figsize=(10,3))\n",
    "\n",
    "\n",
    "p = []\n",
    "for i in range(2):\n",
    "    for j in range(len(LOs)):\n",
    "        p.append(patches.Rectangle((min(abs(LOs[j]-ny[i])), j),np.diff(ny[i])[0], 1\n",
    "                                   ,edgecolor='k',facecolor='none'))\n",
    "bbc = []\n",
    "width = 64\n",
    "up   = -width\n",
    "down = 0\n",
    "\n",
    "ud = [down,up]\n",
    "for j in range(len(edge)):\n",
    "    for i in range(2):\n",
    "        bbc.append(patches.Rectangle((edge[j]+ud[i], 0.5),width,2\n",
    "                            ,edgecolor='g',lw=2\n",
    "                            ,facecolor='none'))\n",
    "\n",
    "old = patches.Rectangle((6580,0.75),128,1)        \n",
    "ax.add_patch(old)\n",
    "\n",
    "# Add the patch to the Axes\n",
    "for pat in p:\n",
    "    ax.add_patch(pat);\n",
    "\n",
    "for b in bbc:#[2:]:\n",
    "    ax.add_patch(b)\n",
    "    \n",
    "ax.vlines(x=6668,ymin=0,ymax=3,color='r',label='Maser')\n",
    "ax.vlines(x=6564,ymin=0,ymax=3,color='m',label='')\n",
    "ax.vlines(x=6756,ymin=0,ymax=3,color='b',label='')\n",
    "\n",
    "ax.set_xlim(6550,6760)\n",
    "\n",
    "(edge-LO_cd)\n",
    "#(edge+LO_12)"
   ]
  },
  {
   "cell_type": "code",
   "execution_count": 146,
   "metadata": {},
   "outputs": [
    {
     "data": {
      "text/plain": [
       "array([588, 620, 652, 684, 716, 748, 780, 812])"
      ]
     },
     "execution_count": 146,
     "metadata": {},
     "output_type": "execute_result"
    }
   ],
   "source": [
    "(edge[0]-64+np.arange(0,8)*32)-6000"
   ]
  },
  {
   "cell_type": "code",
   "execution_count": 147,
   "metadata": {},
   "outputs": [
    {
     "data": {
      "text/plain": [
       "array([-648])"
      ]
     },
     "execution_count": 147,
     "metadata": {},
     "output_type": "execute_result"
    }
   ],
   "source": [
    "edge-LO_cd"
   ]
  },
  {
   "cell_type": "code",
   "execution_count": 148,
   "metadata": {},
   "outputs": [
    {
     "data": {
      "text/plain": [
       "array([809])"
      ]
     },
     "execution_count": 148,
     "metadata": {},
     "output_type": "execute_result"
    }
   ],
   "source": [
    "LO_wa+edge"
   ]
  },
  {
   "cell_type": "code",
   "execution_count": 149,
   "metadata": {},
   "outputs": [
    {
     "data": {
      "text/plain": [
       "array([-348])"
      ]
     },
     "execution_count": 149,
     "metadata": {},
     "output_type": "execute_result"
    }
   ],
   "source": [
    "edge - LO_ho"
   ]
  },
  {
   "cell_type": "code",
   "execution_count": null,
   "metadata": {},
   "outputs": [],
   "source": []
  },
  {
   "cell_type": "code",
   "execution_count": null,
   "metadata": {},
   "outputs": [],
   "source": []
  }
 ],
 "metadata": {
  "kernelspec": {
   "display_name": "Python [conda env:analysis3] *",
   "language": "python",
   "name": "conda-env-analysis3-py"
  },
  "language_info": {
   "codemirror_mode": {
    "name": "ipython",
    "version": 3
   },
   "file_extension": ".py",
   "mimetype": "text/x-python",
   "name": "python",
   "nbconvert_exporter": "python",
   "pygments_lexer": "ipython3",
   "version": "3.7.3"
  }
 },
 "nbformat": 4,
 "nbformat_minor": 4
}
