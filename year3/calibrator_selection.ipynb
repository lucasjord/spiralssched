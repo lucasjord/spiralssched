{
 "cells": [
  {
   "cell_type": "code",
   "execution_count": null,
   "metadata": {},
   "outputs": [
    {
     "ename": "",
     "evalue": "",
     "output_type": "error",
     "traceback": [
      "\u001b[1;31mRunning cells with '/usr/bin/python3' requires the ipykernel package.\n",
      "\u001b[1;31mRun the following command to install 'ipykernel' into the Python environment. \n",
      "\u001b[1;31mCommand: '/usr/bin/python3 -m pip install ipykernel -U --user --force-reinstall'"
     ]
    }
   ],
   "source": [
    "import numpy as np\n",
    "import matplotlib.pyplot as plt\n",
    "from scipy.optimize import least_squares\n",
    "from astropy.coordinates import SkyCoord\n",
    "from astropy import units as u\n",
    "import peakutils\n",
    "\n",
    "import aplpy\n",
    "from astropy.io import fits\n",
    "import astropy.wcs as wcs\n",
    "\n",
    "from astropy.time import Time as aTime\n",
    "\n",
    "import datetime as dt, time\n",
    "\n",
    "import pandas as pd\n",
    "\n",
    "import warnings\n",
    "warnings.filterwarnings(\"ignore\")"
   ]
  },
  {
   "cell_type": "code",
   "execution_count": 2,
   "metadata": {},
   "outputs": [],
   "source": [
    "with open('rfc_2023b.txt') as w:\n",
    "    rfc2023b = np.array([s.split() for s in w.readlines()[211:]])\n",
    "    \n",
    "r = rfc2023b[:,(0,2,3,6,9,10,11,12,15,16,17,18)]\n",
    "\n",
    "ra_hms = np.zeros(shape=rfc2023b.shape[0]).astype(str)\n",
    "dc_dms = np.zeros(shape=rfc2023b.shape[0]).astype(str)\n",
    "for i in range(rfc2023b.shape[0]):\n",
    "    ra_hms[i]= '{}h{}m{}s'.format(rfc2023b[i,3],rfc2023b[i,4],rfc2023b[i,5])\n",
    "    dc_dms[i]= '{}d{}m{}s'.format(rfc2023b[i,6],rfc2023b[i,7],rfc2023b[i,8])\n",
    "    \n",
    "r[:,2] = ra_hms\n",
    "r[:,3] = dc_dms\n",
    "\n",
    "R = pd.DataFrame(r,columns=['G','Name','RA','DEC','xerr','yerr','xyc','obs','C','Cures','X','Xures'])"
   ]
  },
  {
   "cell_type": "code",
   "execution_count": 3,
   "metadata": {
    "scrolled": false
   },
   "outputs": [],
   "source": [
    "#t1 = SkyCoord('18h40m34.51s -04d57m14.4s')\n",
    "#t1 = SkyCoord('18h41m51.06s -05d01m43.5s') \n",
    "#t1 = SkyCoord('18h34m36.84s -08d01m00.7s') #g023\n",
    "#t1 = SkyCoord('18h30m36.07s -10d07m10.9s') #g027.50\n",
    "t1 = SkyCoord('18h47m54.68s -01d34m56.9s')  #g031.12\n",
    "\n",
    "c = SkyCoord(ra_hms,dc_dms)\n",
    "\n",
    "sep1 = (c.separation(t1).value < 5.0)"
   ]
  },
  {
   "cell_type": "code",
   "execution_count": 4,
   "metadata": {},
   "outputs": [],
   "source": [
    "indx  = (R['X'].astype(float) > .07)*sep1\n",
    "c1    = c[indx]\n",
    "names = r[indx,1]"
   ]
  },
  {
   "cell_type": "code",
   "execution_count": 5,
   "metadata": {},
   "outputs": [
    {
     "data": {
      "text/plain": [
       "(array(['J1832+0118', 'J1833+0115', 'J1834-0301', 'J1846-0003',\n",
       "        'J1848+0138', 'J1851+0035', 'J1853-0048', 'J1855+0251',\n",
       "        'J1857-0303', 'J1857-0048', 'J1858-0048', 'J1900-0415',\n",
       "        'J1902-0458'], dtype='<U10'),\n",
       " array([4.78057548, 4.66179469, 3.70728277, 1.59043077, 3.22518399,\n",
       "        2.37998879, 1.63770989, 4.83512377, 2.77677582, 2.60403241,\n",
       "        2.66840945, 4.0908124 , 4.96060864]))"
      ]
     },
     "execution_count": 5,
     "metadata": {},
     "output_type": "execute_result"
    }
   ],
   "source": [
    "names, c.separation(t1).value[indx]"
   ]
  },
  {
   "cell_type": "code",
   "execution_count": 11,
   "metadata": {},
   "outputs": [
    {
     "data": {
      "image/png": "[encoded data removed]",
      "text/plain": [
       "<Figure size 504x504 with 1 Axes>"
      ]
     },
     "metadata": {
      "needs_background": "light"
     },
     "output_type": "display_data"
    }
   ],
   "source": [
    "imgpath = '/Users/Lucas/fits/1131m167_ac51-w1-int-3.fits'\n",
    "hdu = fits.getheader(imgpath)\n",
    "w = wcs.WCS(imgpath).celestial\n",
    "\n",
    "n = 35\n",
    "w.array_shape = (1024*n-1,1024*n-1)\n",
    "w.wcs.crpix = np.array([(w.array_shape[0]+1)/2,(w.array_shape[0]+1)/2])\n",
    "w.wcs.crval = np.array([t1.ra.value,t1.dec.value])\n",
    "\n",
    "srcs = c[:6]\n",
    "\n",
    "#xoffs = [-2.2, 2.2,-2.2, 2.2, 2.2,-2.2]\n",
    "#yoffs = [ 0, 0, 0, 0, 0, 0]\n",
    "\n",
    "fig1 = plt.figure(figsize=(7,7));\n",
    "ax   = aplpy.FITSFigure(w, figure=fig1,convention='calabretta')\n",
    "\n",
    "ax.axis_labels.set_font(size='14')\n",
    "ax.tick_labels.set_font(size='14');\n",
    "\n",
    "ax.ax.grid(True)\n",
    "ax.add_scalebar(3*u.deg,'3 deg')\n",
    "\n",
    "ax.show_markers(t1.ra.deg,t1.dec.deg,s=50,marker='o',\n",
    "                edgecolor='blue',linewidth=1,fc='red',zorder=99)\n",
    "\n",
    "ax.show_markers(c1.ra.deg,c1.dec.deg,s=50,\n",
    "                marker='s',edgecolor='k',linewidth=0.5,fc='k',zorder=99);\n",
    "\n",
    "for i in range(len(names)):\n",
    "    ax.add_label(c1[i].ra.deg,c1[i].dec.deg+0.5,names[i])\n"
   ]
  },
  {
   "cell_type": "code",
   "execution_count": 7,
   "metadata": {},
   "outputs": [
    {
     "data": {
      "text/html": [
       "<div>\n",
       "<style scoped>\n",
       "    .dataframe tbody tr th:only-of-type {\n",
       "        vertical-align: middle;\n",
       "    }\n",
       "\n",
       "    .dataframe tbody tr th {\n",
       "        vertical-align: top;\n",
       "    }\n",
       "\n",
       "    .dataframe thead th {\n",
       "        text-align: right;\n",
       "    }\n",
       "</style>\n",
       "<table border=\"1\" class=\"dataframe\">\n",
       "  <thead>\n",
       "    <tr style=\"text-align: right;\">\n",
       "      <th></th>\n",
       "      <th>G</th>\n",
       "      <th>Name</th>\n",
       "      <th>RA</th>\n",
       "      <th>DEC</th>\n",
       "      <th>xerr</th>\n",
       "      <th>yerr</th>\n",
       "      <th>xyc</th>\n",
       "      <th>obs</th>\n",
       "      <th>C</th>\n",
       "      <th>Cures</th>\n",
       "      <th>X</th>\n",
       "      <th>Xures</th>\n",
       "    </tr>\n",
       "  </thead>\n",
       "  <tbody>\n",
       "    <tr>\n",
       "      <th>17152</th>\n",
       "      <td>C</td>\n",
       "      <td>J1832+0118</td>\n",
       "      <td>18h32m40.0</td>\n",
       "      <td>+01d18m16.</td>\n",
       "      <td>0.12</td>\n",
       "      <td>0.17</td>\n",
       "      <td>-0.119</td>\n",
       "      <td>489</td>\n",
       "      <td>-1.00</td>\n",
       "      <td>-1.00</td>\n",
       "      <td>0.126</td>\n",
       "      <td>0.064</td>\n",
       "    </tr>\n",
       "    <tr>\n",
       "      <th>17160</th>\n",
       "      <td>C</td>\n",
       "      <td>J1833+0115</td>\n",
       "      <td>18h33m07.7</td>\n",
       "      <td>+01d15m35.</td>\n",
       "      <td>0.11</td>\n",
       "      <td>0.14</td>\n",
       "      <td>-0.226</td>\n",
       "      <td>629</td>\n",
       "      <td>0.485</td>\n",
       "      <td>0.291</td>\n",
       "      <td>0.338</td>\n",
       "      <td>0.177</td>\n",
       "    </tr>\n",
       "    <tr>\n",
       "      <th>17179</th>\n",
       "      <td>C</td>\n",
       "      <td>J1834-0301</td>\n",
       "      <td>18h34m14.0</td>\n",
       "      <td>-03d01m19.</td>\n",
       "      <td>0.12</td>\n",
       "      <td>0.17</td>\n",
       "      <td>0.034</td>\n",
       "      <td>1719</td>\n",
       "      <td>0.147</td>\n",
       "      <td>0.026</td>\n",
       "      <td>0.148</td>\n",
       "      <td>0.025</td>\n",
       "    </tr>\n",
       "    <tr>\n",
       "      <th>17344</th>\n",
       "      <td>C</td>\n",
       "      <td>J1846-0003</td>\n",
       "      <td>18h46m03.7</td>\n",
       "      <td>-00d03m38.</td>\n",
       "      <td>0.23</td>\n",
       "      <td>0.48</td>\n",
       "      <td>0.074</td>\n",
       "      <td>338</td>\n",
       "      <td>-1.00</td>\n",
       "      <td>-1.00</td>\n",
       "      <td>0.078</td>\n",
       "      <td>0.041</td>\n",
       "    </tr>\n",
       "    <tr>\n",
       "      <th>17365</th>\n",
       "      <td>C</td>\n",
       "      <td>J1848+0138</td>\n",
       "      <td>18h48m21.8</td>\n",
       "      <td>+01d38m26.</td>\n",
       "      <td>0.46</td>\n",
       "      <td>0.75</td>\n",
       "      <td>-0.014</td>\n",
       "      <td>145</td>\n",
       "      <td>-1.00</td>\n",
       "      <td>-1.00</td>\n",
       "      <td>0.082</td>\n",
       "      <td>-1.00</td>\n",
       "    </tr>\n",
       "    <tr>\n",
       "      <th>17420</th>\n",
       "      <td>C</td>\n",
       "      <td>J1851+0035</td>\n",
       "      <td>18h51m46.7</td>\n",
       "      <td>+00d35m32.</td>\n",
       "      <td>0.30</td>\n",
       "      <td>0.37</td>\n",
       "      <td>0.315</td>\n",
       "      <td>303</td>\n",
       "      <td>0.311</td>\n",
       "      <td>-1.00</td>\n",
       "      <td>0.320</td>\n",
       "      <td>0.062</td>\n",
       "    </tr>\n",
       "    <tr>\n",
       "      <th>17439</th>\n",
       "      <td>C</td>\n",
       "      <td>J1853-0048</td>\n",
       "      <td>18h53m41.9</td>\n",
       "      <td>-00d48m54.</td>\n",
       "      <td>0.58</td>\n",
       "      <td>0.81</td>\n",
       "      <td>0.366</td>\n",
       "      <td>98</td>\n",
       "      <td>-1.00</td>\n",
       "      <td>-1.00</td>\n",
       "      <td>0.073</td>\n",
       "      <td>-1.00</td>\n",
       "    </tr>\n",
       "    <tr>\n",
       "      <th>17454</th>\n",
       "      <td>C</td>\n",
       "      <td>J1855+0251</td>\n",
       "      <td>18h55m35.4</td>\n",
       "      <td>+02d51m19.</td>\n",
       "      <td>0.12</td>\n",
       "      <td>0.16</td>\n",
       "      <td>-0.094</td>\n",
       "      <td>2152</td>\n",
       "      <td>0.138</td>\n",
       "      <td>-1.00</td>\n",
       "      <td>0.155</td>\n",
       "      <td>0.011</td>\n",
       "    </tr>\n",
       "    <tr>\n",
       "      <th>17481</th>\n",
       "      <td>C</td>\n",
       "      <td>J1857-0303</td>\n",
       "      <td>18h57m19.8</td>\n",
       "      <td>-03d03m25.</td>\n",
       "      <td>0.47</td>\n",
       "      <td>0.95</td>\n",
       "      <td>-0.241</td>\n",
       "      <td>36</td>\n",
       "      <td>0.067</td>\n",
       "      <td>0.037</td>\n",
       "      <td>0.095</td>\n",
       "      <td>0.053</td>\n",
       "    </tr>\n",
       "    <tr>\n",
       "      <th>17486</th>\n",
       "      <td>C</td>\n",
       "      <td>J1857-0048</td>\n",
       "      <td>18h57m51.3</td>\n",
       "      <td>-00d48m21.</td>\n",
       "      <td>0.14</td>\n",
       "      <td>0.23</td>\n",
       "      <td>0.033</td>\n",
       "      <td>1292</td>\n",
       "      <td>0.093</td>\n",
       "      <td>-1.00</td>\n",
       "      <td>0.117</td>\n",
       "      <td>0.034</td>\n",
       "    </tr>\n",
       "    <tr>\n",
       "      <th>17489</th>\n",
       "      <td>C</td>\n",
       "      <td>J1858-0048</td>\n",
       "      <td>18h58m07.7</td>\n",
       "      <td>-00d48m33.</td>\n",
       "      <td>0.53</td>\n",
       "      <td>1.06</td>\n",
       "      <td>-0.146</td>\n",
       "      <td>66</td>\n",
       "      <td>0.088</td>\n",
       "      <td>0.039</td>\n",
       "      <td>0.081</td>\n",
       "      <td>0.020</td>\n",
       "    </tr>\n",
       "    <tr>\n",
       "      <th>17517</th>\n",
       "      <td>C</td>\n",
       "      <td>J1900-0415</td>\n",
       "      <td>19h00m18.0</td>\n",
       "      <td>-04d15m35.</td>\n",
       "      <td>0.86</td>\n",
       "      <td>1.30</td>\n",
       "      <td>-0.004</td>\n",
       "      <td>15</td>\n",
       "      <td>0.081</td>\n",
       "      <td>-1.00</td>\n",
       "      <td>0.090</td>\n",
       "      <td>-1.00</td>\n",
       "    </tr>\n",
       "    <tr>\n",
       "      <th>17540</th>\n",
       "      <td>C</td>\n",
       "      <td>J1902-0458</td>\n",
       "      <td>19h02m26.5</td>\n",
       "      <td>-04d58m02.</td>\n",
       "      <td>0.13</td>\n",
       "      <td>0.21</td>\n",
       "      <td>-0.067</td>\n",
       "      <td>535</td>\n",
       "      <td>-1.00</td>\n",
       "      <td>-1.00</td>\n",
       "      <td>0.071</td>\n",
       "      <td>0.045</td>\n",
       "    </tr>\n",
       "  </tbody>\n",
       "</table>\n",
       "</div>"
      ],
      "text/plain": [
       "       G        Name          RA         DEC  xerr  yerr     xyc   obs      C  \\\n",
       "17152  C  J1832+0118  18h32m40.0  +01d18m16.  0.12  0.17  -0.119   489  -1.00   \n",
       "17160  C  J1833+0115  18h33m07.7  +01d15m35.  0.11  0.14  -0.226   629  0.485   \n",
       "17179  C  J1834-0301  18h34m14.0  -03d01m19.  0.12  0.17   0.034  1719  0.147   \n",
       "17344  C  J1846-0003  18h46m03.7  -00d03m38.  0.23  0.48   0.074   338  -1.00   \n",
       "17365  C  J1848+0138  18h48m21.8  +01d38m26.  0.46  0.75  -0.014   145  -1.00   \n",
       "17420  C  J1851+0035  18h51m46.7  +00d35m32.  0.30  0.37   0.315   303  0.311   \n",
       "17439  C  J1853-0048  18h53m41.9  -00d48m54.  0.58  0.81   0.366    98  -1.00   \n",
       "17454  C  J1855+0251  18h55m35.4  +02d51m19.  0.12  0.16  -0.094  2152  0.138   \n",
       "17481  C  J1857-0303  18h57m19.8  -03d03m25.  0.47  0.95  -0.241    36  0.067   \n",
       "17486  C  J1857-0048  18h57m51.3  -00d48m21.  0.14  0.23   0.033  1292  0.093   \n",
       "17489  C  J1858-0048  18h58m07.7  -00d48m33.  0.53  1.06  -0.146    66  0.088   \n",
       "17517  C  J1900-0415  19h00m18.0  -04d15m35.  0.86  1.30  -0.004    15  0.081   \n",
       "17540  C  J1902-0458  19h02m26.5  -04d58m02.  0.13  0.21  -0.067   535  -1.00   \n",
       "\n",
       "       Cures      X  Xures  \n",
       "17152  -1.00  0.126  0.064  \n",
       "17160  0.291  0.338  0.177  \n",
       "17179  0.026  0.148  0.025  \n",
       "17344  -1.00  0.078  0.041  \n",
       "17365  -1.00  0.082  -1.00  \n",
       "17420  -1.00  0.320  0.062  \n",
       "17439  -1.00  0.073  -1.00  \n",
       "17454  -1.00  0.155  0.011  \n",
       "17481  0.037  0.095  0.053  \n",
       "17486  -1.00  0.117  0.034  \n",
       "17489  0.039  0.081  0.020  \n",
       "17517  -1.00  0.090  -1.00  \n",
       "17540  -1.00  0.071  0.045  "
      ]
     },
     "execution_count": 7,
     "metadata": {},
     "output_type": "execute_result"
    }
   ],
   "source": [
    "R[(R['X'].astype(float) > .07)*sep1]"
   ]
  },
  {
   "cell_type": "code",
   "execution_count": 9,
   "metadata": {},
   "outputs": [],
   "source": [
    "t = np.arange(30,120,1)\n",
    "rms = 1.2*np.sqrt(4000*800)/np.sqrt(2*2*512e6*t)*1000"
   ]
  },
  {
   "cell_type": "code",
   "execution_count": 10,
   "metadata": {},
   "outputs": [
    {
     "data": {
      "text/plain": [
       "[<matplotlib.lines.Line2D at 0x12208c908>]"
      ]
     },
     "execution_count": 10,
     "metadata": {},
     "output_type": "execute_result"
    },
    {
     "data": {
      "image/png": "[encoded data removed]",
      "text/plain": [
       "<Figure size 432x288 with 1 Axes>"
      ]
     },
     "metadata": {
      "needs_background": "light"
     },
     "output_type": "display_data"
    }
   ],
   "source": [
    "fig, ax = plt.subplots(1)\n",
    "ax.plot(t,rms,'.')"
   ]
  },
  {
   "cell_type": "code",
   "execution_count": 199,
   "metadata": {},
   "outputs": [
    {
     "data": {
      "text/plain": [
       "array([4.82691179, 4.57491038, 3.30933333, 2.49649015, 3.90668145,\n",
       "       4.61729572, 4.84554331, 4.58876695, 4.96421352])"
      ]
     },
     "execution_count": 199,
     "metadata": {},
     "output_type": "execute_result"
    }
   ],
   "source": [
    "c.separation(t1).value[(R[8].astype(float) > .07)*sep1]"
   ]
  },
  {
   "cell_type": "code",
   "execution_count": 239,
   "metadata": {},
   "outputs": [],
   "source": [
    "#with open('icrf3.txt') as w:\n",
    "#    icrf3 = [s.split() for s in w.readlines()[22:]]"
   ]
  },
  {
   "cell_type": "code",
   "execution_count": 261,
   "metadata": {},
   "outputs": [],
   "source": [
    "icrf3 = pd.read_fwf('icrf3.txt',skiprows=22).values"
   ]
  },
  {
   "cell_type": "code",
   "execution_count": 265,
   "metadata": {},
   "outputs": [],
   "source": [
    "ra_hms = np.zeros(shape=icrf3.shape[0]).astype(str)\n",
    "dc_dms = np.zeros(shape=icrf3.shape[0]).astype(str)\n",
    "for i in range(icrf3.shape[0]):\n",
    "    ra_hms[i]= '{}h{}m{}s'.format(icrf3[i,4],icrf3[i,5],icrf3[i,6])\n",
    "    dc_dms[i]= '{}d{}m{}s'.format(icrf3[i,7],icrf3[i,8],icrf3[i,9])"
   ]
  },
  {
   "cell_type": "code",
   "execution_count": 266,
   "metadata": {},
   "outputs": [],
   "source": [
    "ICRF3 = SkyCoord(ra_hms,dc_dms)"
   ]
  },
  {
   "cell_type": "code",
   "execution_count": 294,
   "metadata": {},
   "outputs": [],
   "source": [
    "I1 = ICRF3[ICRF3.separation(t1).value<3]"
   ]
  },
  {
   "cell_type": "code",
   "execution_count": 295,
   "metadata": {},
   "outputs": [],
   "source": [
    "c1 = c[c.separation(t1).value<3]"
   ]
  },
  {
   "cell_type": "code",
   "execution_count": 296,
   "metadata": {},
   "outputs": [
    {
     "data": {
      "image/png": "[encoded data removed]",
      "text/plain": [
       "<Figure size 504x504 with 1 Axes>"
      ]
     },
     "metadata": {
      "needs_background": "light"
     },
     "output_type": "display_data"
    }
   ],
   "source": [
    "imgpath = '/Users/Lucas/fits/1131m167_ac51-w1-int-3.fits'\n",
    "hdu = fits.getheader(imgpath)\n",
    "w = wcs.WCS(imgpath).celestial\n",
    "\n",
    "n = 35\n",
    "w.array_shape = (1024*n-1,1024*n-1)\n",
    "w.wcs.crpix = np.array([(w.array_shape[0]+1)/2,(w.array_shape[0]+1)/2])\n",
    "w.wcs.crval = np.array([t1.ra.value,t1.dec.value])\n",
    "\n",
    "srcs = c[:6]\n",
    "\n",
    "#xoffs = [-2.2, 2.2,-2.2, 2.2, 2.2,-2.2]\n",
    "#yoffs = [ 0, 0, 0, 0, 0, 0]\n",
    "\n",
    "fig1 = plt.figure(figsize=(7,7));\n",
    "ax = aplpy.FITSFigure(w, figure=fig1,convention='calabretta')\n",
    "\n",
    "ax.axis_labels.set_font(size='14')\n",
    "ax.tick_labels.set_font(size='14');\n",
    "\n",
    "ax.ax.grid(True)\n",
    "ax.add_scalebar(3*u.deg,'3 deg')\n",
    "\n",
    "ax.show_markers(t1.ra.deg,t1.dec.deg,s=50,marker='o',\n",
    "                edgecolor='red',linewidth=1,fc='blue',zorder=99)\n",
    "ax.show_markers(t2.ra.deg,t2.dec.deg,s=50,marker='o',\n",
    "                edgecolor='blue',linewidth=1,fc='red',zorder=99)\n",
    "\n",
    "ax.show_markers(c1.ra.deg,c1.dec.deg,s=50,\n",
    "                marker='s',edgecolor='k',linewidth=0.5,fc='w',zorder=99);\n",
    "\n",
    "ax.show_markers(I1.ra.deg,I1.dec.deg,s=50,\n",
    "                marker='s',edgecolor='b',linewidth=0.5,fc='b',zorder=99);\n",
    "\n",
    "#for i in range(len(names)):\n",
    "#    ax.add_label(c1[i].ra.deg,c1[i].dec.deg+0.5,names[i])\n"
   ]
  },
  {
   "cell_type": "code",
   "execution_count": 299,
   "metadata": {},
   "outputs": [
    {
     "data": {
      "text/plain": [
       "array(['1831-030', '1843-069'], dtype=object)"
      ]
     },
     "execution_count": 299,
     "metadata": {},
     "output_type": "execute_result"
    }
   ],
   "source": [
    "icrf3[ICRF3.separation(t1).value<3,2]"
   ]
  },
  {
   "cell_type": "code",
   "execution_count": null,
   "metadata": {},
   "outputs": [],
   "source": []
  }
 ],
 "metadata": {
  "kernelspec": {
   "display_name": "Python 3",
   "language": "python",
   "name": "python3"
  },
  "language_info": {
   "codemirror_mode": {
    "name": "ipython",
    "version": 3
   },
   "file_extension": ".py",
   "mimetype": "text/x-python",
   "name": "python",
   "nbconvert_exporter": "python",
   "pygments_lexer": "ipython3",
   "version": "3.9.6"
  }
 },
 "nbformat": 4,
 "nbformat_minor": 4
}
