{
 "cells": [
  {
   "cell_type": "code",
   "execution_count": 1,
   "metadata": {},
   "outputs": [],
   "source": [
    "import numpy as np\n",
    "import matplotlib.pyplot as plt\n",
    "from scipy.optimize import least_squares\n",
    "from astropy.coordinates import SkyCoord\n",
    "from astropy import units as u\n",
    "import peakutils\n",
    "\n",
    "#import aplpy\n",
    "from astropy.io import fits\n",
    "import astropy.wcs as wcs\n",
    "\n",
    "from astropy.time import Time as aTime\n",
    "\n",
    "import datetime as dt, time\n",
    "\n",
    "import pandas as pd\n",
    "\n",
    "import warnings\n",
    "warnings.filterwarnings(\"ignore\")"
   ]
  },
  {
   "cell_type": "code",
   "execution_count": 2,
   "metadata": {},
   "outputs": [],
   "source": [
    "with open('rfc_2023b.txt') as w:\n",
    "    rfc2023b = np.array([s.split() for s in w.readlines()[211:]])\n",
    "    \n",
    "r = rfc2023b[:,(0,2,3,6,9,10,11,12,15,16,17,18)]\n",
    "\n",
    "ra_hms = np.zeros(shape=rfc2023b.shape[0]).astype(str)\n",
    "dc_dms = np.zeros(shape=rfc2023b.shape[0]).astype(str)\n",
    "for i in range(rfc2023b.shape[0]):\n",
    "    ra_hms[i]= '{}h{}m{}s'.format(rfc2023b[i,3],rfc2023b[i,4],rfc2023b[i,5])\n",
    "    dc_dms[i]= '{}d{}m{}s'.format(rfc2023b[i,6],rfc2023b[i,7],rfc2023b[i,8])\n",
    "    \n",
    "r[:,2] = ra_hms\n",
    "r[:,3] = dc_dms\n",
    "\n",
    "R = pd.DataFrame(r,columns=['G','Name','RA','DEC','xerr','yerr','xyc','obs','C','Cures','X','Xures'])"
   ]
  },
  {
   "cell_type": "code",
   "execution_count": 44,
   "metadata": {
    "scrolled": false
   },
   "outputs": [],
   "source": [
    "#t1 = SkyCoord('18h40m34.51s -04d57m14.4s')\n",
    "#t1 = SkyCoord('18h41m51.06s -05d01m43.5s') \n",
    "#t1 = SkyCoord('18h34m36.84s -08d01m00.7s') #g023\n",
    "#t1 = SkyCoord('18h30m36.07s -10d07m10.9s') #g027.50\n",
    "#t1 = SkyCoord('16:41:06.05 -47:07:02.5',unit=(u.hourangle,u.degree))  #g031.12\n",
    "#t1 = SkyCoord('15:00:55 -58:58:52',unit=(u.hourangle,u.degree))  \t#g318\n",
    "#t1 = SkyCoord('11:23:42.2 -60:54:33.5',unit=(u.hourangle,u.degree))  \t#g292\n",
    "#t1 = SkyCoord(' 14:19:36.0 -60:51:59.0',unit=(u.hourangle,u.degree))  \t#g313\n",
    "#t1 = SkyCoord('17:49:59.84 -27:30:36.9',unit=(u.hourangle,u.degree))\n",
    "t1 = SkyCoord('17:31:13.91,-35:44:08.7',unit=(u.hourangle,u.degree))\n",
    "\n",
    "\n",
    "\n",
    "c = SkyCoord(ra_hms,dc_dms)\n",
    "\n",
    "sep1 = (c.separation(t1).value < 6.0)"
   ]
  },
  {
   "cell_type": "code",
   "execution_count": 56,
   "metadata": {},
   "outputs": [],
   "source": [
    "indx  = (R['Xures'].astype(float) > .04)*sep1*(R['G']=='C')\n",
    "c1    = c[indx]\n",
    "names = r[indx,1]"
   ]
  },
  {
   "cell_type": "code",
   "execution_count": 57,
   "metadata": {},
   "outputs": [
    {
     "data": {
      "text/plain": [
       "array([4.66853576, 3.75726308, 3.95924421, 2.15076876, 4.23527405,\n",
       "       2.95648514, 4.14447524, 4.63349902, 5.12028149])"
      ]
     },
     "execution_count": 57,
     "metadata": {},
     "output_type": "execute_result"
    }
   ],
   "source": [
    "c1.separation(t1).value"
   ]
  },
  {
   "cell_type": "code",
   "execution_count": 58,
   "metadata": {},
   "outputs": [
    {
     "data": {
      "image/png": "[encoded data removed]",
      "text/plain": [
       "<Figure size 640x480 with 1 Axes>"
      ]
     },
     "metadata": {},
     "output_type": "display_data"
    }
   ],
   "source": [
    "fig, ax = plt.subplots(1)\n",
    "ax.plot((c1.ra.deg - t1.ra.deg)*np.cos(t1.dec.rad),c1.dec.deg - t1.dec.deg,'o')\n",
    "ax.plot(0,0,'ro')\n",
    "ax.text(0,0,'maser')\n",
    "for i in range(len(names)):\n",
    "    ax.text((c1[i].ra.deg - t1.ra.deg)*np.cos(t1.dec.rad),c1[i].dec.deg - t1.dec.deg,names[i])\n",
    "ax.invert_xaxis()\n",
    "ax.set_aspect('equal')\n",
    "ax.set_ylabel('NS offset')\n",
    "ax.set_xlabel('EW offset')\n",
    "fig.savefig('/Users/lucas3/G00171m0.08_quasars.pdf',bbox_inches='tight')\n"
   ]
  },
  {
   "cell_type": "code",
   "execution_count": 59,
   "metadata": {},
   "outputs": [
    {
     "data": {
      "text/html": [
       "<div>\n",
       "<style scoped>\n",
       "    .dataframe tbody tr th:only-of-type {\n",
       "        vertical-align: middle;\n",
       "    }\n",
       "\n",
       "    .dataframe tbody tr th {\n",
       "        vertical-align: top;\n",
       "    }\n",
       "\n",
       "    .dataframe thead th {\n",
       "        text-align: right;\n",
       "    }\n",
       "</style>\n",
       "<table border=\"1\" class=\"dataframe\">\n",
       "  <thead>\n",
       "    <tr style=\"text-align: right;\">\n",
       "      <th></th>\n",
       "      <th>G</th>\n",
       "      <th>Name</th>\n",
       "      <th>RA</th>\n",
       "      <th>DEC</th>\n",
       "      <th>xerr</th>\n",
       "      <th>yerr</th>\n",
       "      <th>xyc</th>\n",
       "      <th>obs</th>\n",
       "      <th>C</th>\n",
       "      <th>Cures</th>\n",
       "      <th>X</th>\n",
       "      <th>Xures</th>\n",
       "    </tr>\n",
       "  </thead>\n",
       "  <tbody>\n",
       "    <tr>\n",
       "      <th>16257</th>\n",
       "      <td>C</td>\n",
       "      <td>J1729-2657</td>\n",
       "      <td>17h29m08.2</td>\n",
       "      <td>-26d57m50.</td>\n",
       "      <td>0.13</td>\n",
       "      <td>0.19</td>\n",
       "      <td>-0.128</td>\n",
       "      <td>1403</td>\n",
       "      <td>0.158</td>\n",
       "      <td>0.012</td>\n",
       "      <td>0.153</td>\n",
       "      <td>0.044</td>\n",
       "    </tr>\n",
       "    <tr>\n",
       "      <th>16454</th>\n",
       "      <td>C</td>\n",
       "      <td>J1743-3058</td>\n",
       "      <td>17h43m17.8</td>\n",
       "      <td>-30d58m18.</td>\n",
       "      <td>0.53</td>\n",
       "      <td>1.02</td>\n",
       "      <td>0.221</td>\n",
       "      <td>598</td>\n",
       "      <td>0.044</td>\n",
       "      <td>-1.00</td>\n",
       "      <td>0.069</td>\n",
       "      <td>0.051</td>\n",
       "    </tr>\n",
       "    <tr>\n",
       "      <th>16467</th>\n",
       "      <td>C</td>\n",
       "      <td>J1744-3116</td>\n",
       "      <td>17h44m23.5</td>\n",
       "      <td>-31d16m36.</td>\n",
       "      <td>0.33</td>\n",
       "      <td>0.65</td>\n",
       "      <td>0.246</td>\n",
       "      <td>399</td>\n",
       "      <td>0.340</td>\n",
       "      <td>-1.00</td>\n",
       "      <td>0.380</td>\n",
       "      <td>0.049</td>\n",
       "    </tr>\n",
       "    <tr>\n",
       "      <th>16565</th>\n",
       "      <td>C</td>\n",
       "      <td>J1751-2524</td>\n",
       "      <td>17h51m51.2</td>\n",
       "      <td>-25d24m00.</td>\n",
       "      <td>0.25</td>\n",
       "      <td>0.45</td>\n",
       "      <td>0.233</td>\n",
       "      <td>643</td>\n",
       "      <td>0.188</td>\n",
       "      <td>0.005</td>\n",
       "      <td>0.189</td>\n",
       "      <td>0.047</td>\n",
       "    </tr>\n",
       "    <tr>\n",
       "      <th>16653</th>\n",
       "      <td>C</td>\n",
       "      <td>J1758-2343</td>\n",
       "      <td>17h58m23.0</td>\n",
       "      <td>-23d43m12.</td>\n",
       "      <td>0.21</td>\n",
       "      <td>0.37</td>\n",
       "      <td>-0.096</td>\n",
       "      <td>283</td>\n",
       "      <td>-1.00</td>\n",
       "      <td>-1.00</td>\n",
       "      <td>0.247</td>\n",
       "      <td>0.045</td>\n",
       "    </tr>\n",
       "    <tr>\n",
       "      <th>16725</th>\n",
       "      <td>C</td>\n",
       "      <td>J1803-2748</td>\n",
       "      <td>18h03m16.9</td>\n",
       "      <td>-27d48m13.</td>\n",
       "      <td>0.15</td>\n",
       "      <td>0.27</td>\n",
       "      <td>-0.240</td>\n",
       "      <td>435</td>\n",
       "      <td>0.059</td>\n",
       "      <td>0.056</td>\n",
       "      <td>0.103</td>\n",
       "      <td>0.064</td>\n",
       "    </tr>\n",
       "    <tr>\n",
       "      <th>16754</th>\n",
       "      <td>C</td>\n",
       "      <td>J1805-2512</td>\n",
       "      <td>18h05m23.5</td>\n",
       "      <td>-25d12m38.</td>\n",
       "      <td>0.47</td>\n",
       "      <td>1.09</td>\n",
       "      <td>0.238</td>\n",
       "      <td>97</td>\n",
       "      <td>-1.00</td>\n",
       "      <td>-1.00</td>\n",
       "      <td>0.075</td>\n",
       "      <td>0.041</td>\n",
       "    </tr>\n",
       "    <tr>\n",
       "      <th>16791</th>\n",
       "      <td>C</td>\n",
       "      <td>J1807-2506</td>\n",
       "      <td>18h07m40.6</td>\n",
       "      <td>-25d06m25.</td>\n",
       "      <td>0.13</td>\n",
       "      <td>0.18</td>\n",
       "      <td>-0.268</td>\n",
       "      <td>1383</td>\n",
       "      <td>0.140</td>\n",
       "      <td>0.015</td>\n",
       "      <td>0.159</td>\n",
       "      <td>0.057</td>\n",
       "    </tr>\n",
       "    <tr>\n",
       "      <th>16858</th>\n",
       "      <td>C</td>\n",
       "      <td>J1812-2836</td>\n",
       "      <td>18h12m40.1</td>\n",
       "      <td>-28d36m26.</td>\n",
       "      <td>0.15</td>\n",
       "      <td>0.23</td>\n",
       "      <td>0.035</td>\n",
       "      <td>829</td>\n",
       "      <td>0.257</td>\n",
       "      <td>0.031</td>\n",
       "      <td>0.208</td>\n",
       "      <td>0.057</td>\n",
       "    </tr>\n",
       "  </tbody>\n",
       "</table>\n",
       "</div>"
      ],
      "text/plain": [
       "       G        Name          RA         DEC  xerr  yerr     xyc   obs      C  \\\n",
       "16257  C  J1729-2657  17h29m08.2  -26d57m50.  0.13  0.19  -0.128  1403  0.158   \n",
       "16454  C  J1743-3058  17h43m17.8  -30d58m18.  0.53  1.02   0.221   598  0.044   \n",
       "16467  C  J1744-3116  17h44m23.5  -31d16m36.  0.33  0.65   0.246   399  0.340   \n",
       "16565  C  J1751-2524  17h51m51.2  -25d24m00.  0.25  0.45   0.233   643  0.188   \n",
       "16653  C  J1758-2343  17h58m23.0  -23d43m12.  0.21  0.37  -0.096   283  -1.00   \n",
       "16725  C  J1803-2748  18h03m16.9  -27d48m13.  0.15  0.27  -0.240   435  0.059   \n",
       "16754  C  J1805-2512  18h05m23.5  -25d12m38.  0.47  1.09   0.238    97  -1.00   \n",
       "16791  C  J1807-2506  18h07m40.6  -25d06m25.  0.13  0.18  -0.268  1383  0.140   \n",
       "16858  C  J1812-2836  18h12m40.1  -28d36m26.  0.15  0.23   0.035   829  0.257   \n",
       "\n",
       "       Cures      X  Xures  \n",
       "16257  0.012  0.153  0.044  \n",
       "16454  -1.00  0.069  0.051  \n",
       "16467  -1.00  0.380  0.049  \n",
       "16565  0.005  0.189  0.047  \n",
       "16653  -1.00  0.247  0.045  \n",
       "16725  0.056  0.103  0.064  \n",
       "16754  -1.00  0.075  0.041  \n",
       "16791  0.015  0.159  0.057  \n",
       "16858  0.031  0.208  0.057  "
      ]
     },
     "execution_count": 59,
     "metadata": {},
     "output_type": "execute_result"
    }
   ],
   "source": [
    "R[indx][R[indx]['Xures']!='-1.00']\n",
    "R[indx]"
   ]
  },
  {
   "cell_type": "code",
   "execution_count": null,
   "metadata": {},
   "outputs": [],
   "source": []
  },
  {
   "cell_type": "code",
   "execution_count": null,
   "metadata": {},
   "outputs": [],
   "source": []
  },
  {
   "cell_type": "code",
   "execution_count": 199,
   "metadata": {},
   "outputs": [
    {
     "data": {
      "text/plain": [
       "array([4.82691179, 4.57491038, 3.30933333, 2.49649015, 3.90668145,\n",
       "       4.61729572, 4.84554331, 4.58876695, 4.96421352])"
      ]
     },
     "execution_count": 199,
     "metadata": {},
     "output_type": "execute_result"
    }
   ],
   "source": [
    "c.separation(t1).value[(R[8].astype(float) > .07)*sep1]"
   ]
  },
  {
   "cell_type": "code",
   "execution_count": 239,
   "metadata": {},
   "outputs": [],
   "source": [
    "#with open('icrf3.txt') as w:\n",
    "#    icrf3 = [s.split() for s in w.readlines()[22:]]"
   ]
  },
  {
   "cell_type": "code",
   "execution_count": 261,
   "metadata": {},
   "outputs": [],
   "source": [
    "icrf3 = pd.read_fwf('icrf3.txt',skiprows=22).values"
   ]
  },
  {
   "cell_type": "code",
   "execution_count": 265,
   "metadata": {},
   "outputs": [],
   "source": [
    "ra_hms = np.zeros(shape=icrf3.shape[0]).astype(str)\n",
    "dc_dms = np.zeros(shape=icrf3.shape[0]).astype(str)\n",
    "for i in range(icrf3.shape[0]):\n",
    "    ra_hms[i]= '{}h{}m{}s'.format(icrf3[i,4],icrf3[i,5],icrf3[i,6])\n",
    "    dc_dms[i]= '{}d{}m{}s'.format(icrf3[i,7],icrf3[i,8],icrf3[i,9])"
   ]
  },
  {
   "cell_type": "code",
   "execution_count": 266,
   "metadata": {},
   "outputs": [],
   "source": [
    "ICRF3 = SkyCoord(ra_hms,dc_dms)"
   ]
  },
  {
   "cell_type": "code",
   "execution_count": 294,
   "metadata": {},
   "outputs": [],
   "source": [
    "I1 = ICRF3[ICRF3.separation(t1).value<3]"
   ]
  },
  {
   "cell_type": "code",
   "execution_count": 295,
   "metadata": {},
   "outputs": [],
   "source": [
    "c1 = c[c.separation(t1).value<3]"
   ]
  },
  {
   "cell_type": "code",
   "execution_count": 26,
   "metadata": {},
   "outputs": [
    {
     "ename": "FileNotFoundError",
     "evalue": "[Errno 2] No such file or directory: '/Users/Lucas/fits/1131m167_ac51-w1-int-3.fits'",
     "output_type": "error",
     "traceback": [
      "\u001b[0;31m---------------------------------------------------------------------------\u001b[0m",
      "\u001b[0;31mFileNotFoundError\u001b[0m                         Traceback (most recent call last)",
      "Cell \u001b[0;32mIn[26], line 2\u001b[0m\n\u001b[1;32m      1\u001b[0m imgpath \u001b[38;5;241m=\u001b[39m \u001b[38;5;124m'\u001b[39m\u001b[38;5;124m/Users/Lucas/fits/1131m167_ac51-w1-int-3.fits\u001b[39m\u001b[38;5;124m'\u001b[39m\n\u001b[0;32m----> 2\u001b[0m hdu \u001b[38;5;241m=\u001b[39m \u001b[43mfits\u001b[49m\u001b[38;5;241;43m.\u001b[39;49m\u001b[43mgetheader\u001b[49m\u001b[43m(\u001b[49m\u001b[43mimgpath\u001b[49m\u001b[43m)\u001b[49m\n\u001b[1;32m      3\u001b[0m w \u001b[38;5;241m=\u001b[39m wcs\u001b[38;5;241m.\u001b[39mWCS(imgpath)\u001b[38;5;241m.\u001b[39mcelestial\n\u001b[1;32m      5\u001b[0m n \u001b[38;5;241m=\u001b[39m \u001b[38;5;241m35\u001b[39m\n",
      "File \u001b[0;32m/opt/homebrew/Caskroom/mambaforge/base/envs/analysis/lib/python3.10/site-packages/astropy/io/fits/convenience.py:121\u001b[0m, in \u001b[0;36mgetheader\u001b[0;34m(filename, *args, **kwargs)\u001b[0m\n\u001b[1;32m    100\u001b[0m \u001b[38;5;250m\u001b[39m\u001b[38;5;124;03m\"\"\"\u001b[39;00m\n\u001b[1;32m    101\u001b[0m \u001b[38;5;124;03mGet the header from an HDU of a FITS file.\u001b[39;00m\n\u001b[1;32m    102\u001b[0m \n\u001b[0;32m   (...)\u001b[0m\n\u001b[1;32m    118\u001b[0m \u001b[38;5;124;03mheader : `Header` object\u001b[39;00m\n\u001b[1;32m    119\u001b[0m \u001b[38;5;124;03m\"\"\"\u001b[39;00m\n\u001b[1;32m    120\u001b[0m mode, closed \u001b[38;5;241m=\u001b[39m _get_file_mode(filename)\n\u001b[0;32m--> 121\u001b[0m hdulist, extidx \u001b[38;5;241m=\u001b[39m \u001b[43m_getext\u001b[49m\u001b[43m(\u001b[49m\u001b[43mfilename\u001b[49m\u001b[43m,\u001b[49m\u001b[43m \u001b[49m\u001b[43mmode\u001b[49m\u001b[43m,\u001b[49m\u001b[43m \u001b[49m\u001b[38;5;241;43m*\u001b[39;49m\u001b[43margs\u001b[49m\u001b[43m,\u001b[49m\u001b[43m \u001b[49m\u001b[38;5;241;43m*\u001b[39;49m\u001b[38;5;241;43m*\u001b[39;49m\u001b[43mkwargs\u001b[49m\u001b[43m)\u001b[49m\n\u001b[1;32m    122\u001b[0m \u001b[38;5;28;01mtry\u001b[39;00m:\n\u001b[1;32m    123\u001b[0m     hdu \u001b[38;5;241m=\u001b[39m hdulist[extidx]\n",
      "File \u001b[0;32m/opt/homebrew/Caskroom/mambaforge/base/envs/analysis/lib/python3.10/site-packages/astropy/io/fits/convenience.py:1113\u001b[0m, in \u001b[0;36m_getext\u001b[0;34m(filename, mode, ext, extname, extver, *args, **kwargs)\u001b[0m\n\u001b[1;32m   1110\u001b[0m \u001b[38;5;28;01melif\u001b[39;00m extver \u001b[38;5;129;01mand\u001b[39;00m extname \u001b[38;5;129;01mis\u001b[39;00m \u001b[38;5;28;01mNone\u001b[39;00m:\n\u001b[1;32m   1111\u001b[0m     \u001b[38;5;28;01mraise\u001b[39;00m \u001b[38;5;167;01mTypeError\u001b[39;00m(\u001b[38;5;124m\"\u001b[39m\u001b[38;5;124mextver alone cannot specify an extension.\u001b[39m\u001b[38;5;124m\"\u001b[39m)\n\u001b[0;32m-> 1113\u001b[0m hdulist \u001b[38;5;241m=\u001b[39m \u001b[43mfitsopen\u001b[49m\u001b[43m(\u001b[49m\u001b[43mfilename\u001b[49m\u001b[43m,\u001b[49m\u001b[43m \u001b[49m\u001b[43mmode\u001b[49m\u001b[38;5;241;43m=\u001b[39;49m\u001b[43mmode\u001b[49m\u001b[43m,\u001b[49m\u001b[43m \u001b[49m\u001b[38;5;241;43m*\u001b[39;49m\u001b[38;5;241;43m*\u001b[39;49m\u001b[43mkwargs\u001b[49m\u001b[43m)\u001b[49m\n\u001b[1;32m   1115\u001b[0m \u001b[38;5;28;01mreturn\u001b[39;00m hdulist, ext\n",
      "File \u001b[0;32m/opt/homebrew/Caskroom/mambaforge/base/envs/analysis/lib/python3.10/site-packages/astropy/io/fits/hdu/hdulist.py:213\u001b[0m, in \u001b[0;36mfitsopen\u001b[0;34m(name, mode, memmap, save_backup, cache, lazy_load_hdus, ignore_missing_simple, use_fsspec, fsspec_kwargs, **kwargs)\u001b[0m\n\u001b[1;32m    210\u001b[0m \u001b[38;5;28;01mif\u001b[39;00m \u001b[38;5;129;01mnot\u001b[39;00m name:\n\u001b[1;32m    211\u001b[0m     \u001b[38;5;28;01mraise\u001b[39;00m \u001b[38;5;167;01mValueError\u001b[39;00m(\u001b[38;5;124mf\u001b[39m\u001b[38;5;124m\"\u001b[39m\u001b[38;5;124mEmpty filename: \u001b[39m\u001b[38;5;132;01m{\u001b[39;00mname\u001b[38;5;132;01m!r}\u001b[39;00m\u001b[38;5;124m\"\u001b[39m)\n\u001b[0;32m--> 213\u001b[0m \u001b[38;5;28;01mreturn\u001b[39;00m \u001b[43mHDUList\u001b[49m\u001b[38;5;241;43m.\u001b[39;49m\u001b[43mfromfile\u001b[49m\u001b[43m(\u001b[49m\n\u001b[1;32m    214\u001b[0m \u001b[43m    \u001b[49m\u001b[43mname\u001b[49m\u001b[43m,\u001b[49m\n\u001b[1;32m    215\u001b[0m \u001b[43m    \u001b[49m\u001b[43mmode\u001b[49m\u001b[43m,\u001b[49m\n\u001b[1;32m    216\u001b[0m \u001b[43m    \u001b[49m\u001b[43mmemmap\u001b[49m\u001b[43m,\u001b[49m\n\u001b[1;32m    217\u001b[0m \u001b[43m    \u001b[49m\u001b[43msave_backup\u001b[49m\u001b[43m,\u001b[49m\n\u001b[1;32m    218\u001b[0m \u001b[43m    \u001b[49m\u001b[43mcache\u001b[49m\u001b[43m,\u001b[49m\n\u001b[1;32m    219\u001b[0m \u001b[43m    \u001b[49m\u001b[43mlazy_load_hdus\u001b[49m\u001b[43m,\u001b[49m\n\u001b[1;32m    220\u001b[0m \u001b[43m    \u001b[49m\u001b[43mignore_missing_simple\u001b[49m\u001b[43m,\u001b[49m\n\u001b[1;32m    221\u001b[0m \u001b[43m    \u001b[49m\u001b[43muse_fsspec\u001b[49m\u001b[38;5;241;43m=\u001b[39;49m\u001b[43muse_fsspec\u001b[49m\u001b[43m,\u001b[49m\n\u001b[1;32m    222\u001b[0m \u001b[43m    \u001b[49m\u001b[43mfsspec_kwargs\u001b[49m\u001b[38;5;241;43m=\u001b[39;49m\u001b[43mfsspec_kwargs\u001b[49m\u001b[43m,\u001b[49m\n\u001b[1;32m    223\u001b[0m \u001b[43m    \u001b[49m\u001b[38;5;241;43m*\u001b[39;49m\u001b[38;5;241;43m*\u001b[39;49m\u001b[43mkwargs\u001b[49m\u001b[43m,\u001b[49m\n\u001b[1;32m    224\u001b[0m \u001b[43m\u001b[49m\u001b[43m)\u001b[49m\n",
      "File \u001b[0;32m/opt/homebrew/Caskroom/mambaforge/base/envs/analysis/lib/python3.10/site-packages/astropy/io/fits/hdu/hdulist.py:476\u001b[0m, in \u001b[0;36mHDUList.fromfile\u001b[0;34m(cls, fileobj, mode, memmap, save_backup, cache, lazy_load_hdus, ignore_missing_simple, **kwargs)\u001b[0m\n\u001b[1;32m    457\u001b[0m \u001b[38;5;129m@classmethod\u001b[39m\n\u001b[1;32m    458\u001b[0m \u001b[38;5;28;01mdef\u001b[39;00m \u001b[38;5;21mfromfile\u001b[39m(\n\u001b[1;32m    459\u001b[0m     \u001b[38;5;28mcls\u001b[39m,\n\u001b[0;32m   (...)\u001b[0m\n\u001b[1;32m    467\u001b[0m     \u001b[38;5;241m*\u001b[39m\u001b[38;5;241m*\u001b[39mkwargs,\n\u001b[1;32m    468\u001b[0m ):\n\u001b[1;32m    469\u001b[0m \u001b[38;5;250m    \u001b[39m\u001b[38;5;124;03m\"\"\"\u001b[39;00m\n\u001b[1;32m    470\u001b[0m \u001b[38;5;124;03m    Creates an `HDUList` instance from a file-like object.\u001b[39;00m\n\u001b[1;32m    471\u001b[0m \n\u001b[0;32m   (...)\u001b[0m\n\u001b[1;32m    474\u001b[0m \u001b[38;5;124;03m    documentation for details of the parameters accepted by this method).\u001b[39;00m\n\u001b[1;32m    475\u001b[0m \u001b[38;5;124;03m    \"\"\"\u001b[39;00m\n\u001b[0;32m--> 476\u001b[0m     \u001b[38;5;28;01mreturn\u001b[39;00m \u001b[38;5;28;43mcls\u001b[39;49m\u001b[38;5;241;43m.\u001b[39;49m\u001b[43m_readfrom\u001b[49m\u001b[43m(\u001b[49m\n\u001b[1;32m    477\u001b[0m \u001b[43m        \u001b[49m\u001b[43mfileobj\u001b[49m\u001b[38;5;241;43m=\u001b[39;49m\u001b[43mfileobj\u001b[49m\u001b[43m,\u001b[49m\n\u001b[1;32m    478\u001b[0m \u001b[43m        \u001b[49m\u001b[43mmode\u001b[49m\u001b[38;5;241;43m=\u001b[39;49m\u001b[43mmode\u001b[49m\u001b[43m,\u001b[49m\n\u001b[1;32m    479\u001b[0m \u001b[43m        \u001b[49m\u001b[43mmemmap\u001b[49m\u001b[38;5;241;43m=\u001b[39;49m\u001b[43mmemmap\u001b[49m\u001b[43m,\u001b[49m\n\u001b[1;32m    480\u001b[0m \u001b[43m        \u001b[49m\u001b[43msave_backup\u001b[49m\u001b[38;5;241;43m=\u001b[39;49m\u001b[43msave_backup\u001b[49m\u001b[43m,\u001b[49m\n\u001b[1;32m    481\u001b[0m \u001b[43m        \u001b[49m\u001b[43mcache\u001b[49m\u001b[38;5;241;43m=\u001b[39;49m\u001b[43mcache\u001b[49m\u001b[43m,\u001b[49m\n\u001b[1;32m    482\u001b[0m \u001b[43m        \u001b[49m\u001b[43mignore_missing_simple\u001b[49m\u001b[38;5;241;43m=\u001b[39;49m\u001b[43mignore_missing_simple\u001b[49m\u001b[43m,\u001b[49m\n\u001b[1;32m    483\u001b[0m \u001b[43m        \u001b[49m\u001b[43mlazy_load_hdus\u001b[49m\u001b[38;5;241;43m=\u001b[39;49m\u001b[43mlazy_load_hdus\u001b[49m\u001b[43m,\u001b[49m\n\u001b[1;32m    484\u001b[0m \u001b[43m        \u001b[49m\u001b[38;5;241;43m*\u001b[39;49m\u001b[38;5;241;43m*\u001b[39;49m\u001b[43mkwargs\u001b[49m\u001b[43m,\u001b[49m\n\u001b[1;32m    485\u001b[0m \u001b[43m    \u001b[49m\u001b[43m)\u001b[49m\n",
      "File \u001b[0;32m/opt/homebrew/Caskroom/mambaforge/base/envs/analysis/lib/python3.10/site-packages/astropy/io/fits/hdu/hdulist.py:1146\u001b[0m, in \u001b[0;36mHDUList._readfrom\u001b[0;34m(cls, fileobj, data, mode, memmap, cache, lazy_load_hdus, ignore_missing_simple, use_fsspec, fsspec_kwargs, **kwargs)\u001b[0m\n\u001b[1;32m   1143\u001b[0m \u001b[38;5;28;01mif\u001b[39;00m fileobj \u001b[38;5;129;01mis\u001b[39;00m \u001b[38;5;129;01mnot\u001b[39;00m \u001b[38;5;28;01mNone\u001b[39;00m:\n\u001b[1;32m   1144\u001b[0m     \u001b[38;5;28;01mif\u001b[39;00m \u001b[38;5;129;01mnot\u001b[39;00m \u001b[38;5;28misinstance\u001b[39m(fileobj, _File):\n\u001b[1;32m   1145\u001b[0m         \u001b[38;5;66;03m# instantiate a FITS file object (ffo)\u001b[39;00m\n\u001b[0;32m-> 1146\u001b[0m         fileobj \u001b[38;5;241m=\u001b[39m \u001b[43m_File\u001b[49m\u001b[43m(\u001b[49m\n\u001b[1;32m   1147\u001b[0m \u001b[43m            \u001b[49m\u001b[43mfileobj\u001b[49m\u001b[43m,\u001b[49m\n\u001b[1;32m   1148\u001b[0m \u001b[43m            \u001b[49m\u001b[43mmode\u001b[49m\u001b[38;5;241;43m=\u001b[39;49m\u001b[43mmode\u001b[49m\u001b[43m,\u001b[49m\n\u001b[1;32m   1149\u001b[0m \u001b[43m            \u001b[49m\u001b[43mmemmap\u001b[49m\u001b[38;5;241;43m=\u001b[39;49m\u001b[43mmemmap\u001b[49m\u001b[43m,\u001b[49m\n\u001b[1;32m   1150\u001b[0m \u001b[43m            \u001b[49m\u001b[43mcache\u001b[49m\u001b[38;5;241;43m=\u001b[39;49m\u001b[43mcache\u001b[49m\u001b[43m,\u001b[49m\n\u001b[1;32m   1151\u001b[0m \u001b[43m            \u001b[49m\u001b[43muse_fsspec\u001b[49m\u001b[38;5;241;43m=\u001b[39;49m\u001b[43muse_fsspec\u001b[49m\u001b[43m,\u001b[49m\n\u001b[1;32m   1152\u001b[0m \u001b[43m            \u001b[49m\u001b[43mfsspec_kwargs\u001b[49m\u001b[38;5;241;43m=\u001b[39;49m\u001b[43mfsspec_kwargs\u001b[49m\u001b[43m,\u001b[49m\n\u001b[1;32m   1153\u001b[0m \u001b[43m        \u001b[49m\u001b[43m)\u001b[49m\n\u001b[1;32m   1154\u001b[0m     \u001b[38;5;66;03m# The Astropy mode is determined by the _File initializer if the\u001b[39;00m\n\u001b[1;32m   1155\u001b[0m     \u001b[38;5;66;03m# supplied mode was None\u001b[39;00m\n\u001b[1;32m   1156\u001b[0m     mode \u001b[38;5;241m=\u001b[39m fileobj\u001b[38;5;241m.\u001b[39mmode\n",
      "File \u001b[0;32m/opt/homebrew/Caskroom/mambaforge/base/envs/analysis/lib/python3.10/site-packages/astropy/io/fits/file.py:217\u001b[0m, in \u001b[0;36m_File.__init__\u001b[0;34m(self, fileobj, mode, memmap, overwrite, cache, use_fsspec, fsspec_kwargs)\u001b[0m\n\u001b[1;32m    215\u001b[0m     \u001b[38;5;28mself\u001b[39m\u001b[38;5;241m.\u001b[39m_open_fileobj(fileobj, mode, overwrite)\n\u001b[1;32m    216\u001b[0m \u001b[38;5;28;01melif\u001b[39;00m \u001b[38;5;28misinstance\u001b[39m(fileobj, (\u001b[38;5;28mstr\u001b[39m, \u001b[38;5;28mbytes\u001b[39m)):\n\u001b[0;32m--> 217\u001b[0m     \u001b[38;5;28;43mself\u001b[39;49m\u001b[38;5;241;43m.\u001b[39;49m\u001b[43m_open_filename\u001b[49m\u001b[43m(\u001b[49m\u001b[43mfileobj\u001b[49m\u001b[43m,\u001b[49m\u001b[43m \u001b[49m\u001b[43mmode\u001b[49m\u001b[43m,\u001b[49m\u001b[43m \u001b[49m\u001b[43moverwrite\u001b[49m\u001b[43m)\u001b[49m\n\u001b[1;32m    218\u001b[0m \u001b[38;5;28;01melse\u001b[39;00m:\n\u001b[1;32m    219\u001b[0m     \u001b[38;5;28mself\u001b[39m\u001b[38;5;241m.\u001b[39m_open_filelike(fileobj, mode, overwrite)\n",
      "File \u001b[0;32m/opt/homebrew/Caskroom/mambaforge/base/envs/analysis/lib/python3.10/site-packages/astropy/io/fits/file.py:626\u001b[0m, in \u001b[0;36m_File._open_filename\u001b[0;34m(self, filename, mode, overwrite)\u001b[0m\n\u001b[1;32m    623\u001b[0m ext \u001b[38;5;241m=\u001b[39m os\u001b[38;5;241m.\u001b[39mpath\u001b[38;5;241m.\u001b[39msplitext(\u001b[38;5;28mself\u001b[39m\u001b[38;5;241m.\u001b[39mname)[\u001b[38;5;241m1\u001b[39m]\n\u001b[1;32m    625\u001b[0m \u001b[38;5;28;01mif\u001b[39;00m \u001b[38;5;129;01mnot\u001b[39;00m \u001b[38;5;28mself\u001b[39m\u001b[38;5;241m.\u001b[39m_try_read_compressed(\u001b[38;5;28mself\u001b[39m\u001b[38;5;241m.\u001b[39mname, magic, mode, ext\u001b[38;5;241m=\u001b[39mext):\n\u001b[0;32m--> 626\u001b[0m     \u001b[38;5;28mself\u001b[39m\u001b[38;5;241m.\u001b[39m_file \u001b[38;5;241m=\u001b[39m \u001b[38;5;28;43mopen\u001b[39;49m\u001b[43m(\u001b[49m\u001b[38;5;28;43mself\u001b[39;49m\u001b[38;5;241;43m.\u001b[39;49m\u001b[43mname\u001b[49m\u001b[43m,\u001b[49m\u001b[43m \u001b[49m\u001b[43mIO_FITS_MODES\u001b[49m\u001b[43m[\u001b[49m\u001b[43mmode\u001b[49m\u001b[43m]\u001b[49m\u001b[43m)\u001b[49m\n\u001b[1;32m    627\u001b[0m     \u001b[38;5;28mself\u001b[39m\u001b[38;5;241m.\u001b[39mclose_on_error \u001b[38;5;241m=\u001b[39m \u001b[38;5;28;01mTrue\u001b[39;00m\n\u001b[1;32m    629\u001b[0m \u001b[38;5;66;03m# Make certain we're back at the beginning of the file\u001b[39;00m\n\u001b[1;32m    630\u001b[0m \u001b[38;5;66;03m# BZ2File does not support seek when the file is open for writing, but\u001b[39;00m\n\u001b[1;32m    631\u001b[0m \u001b[38;5;66;03m# when opening a file for write, bz2.BZ2File always truncates anyway.\u001b[39;00m\n",
      "\u001b[0;31mFileNotFoundError\u001b[0m: [Errno 2] No such file or directory: '/Users/Lucas/fits/1131m167_ac51-w1-int-3.fits'"
     ]
    }
   ],
   "source": [
    "imgpath = '/Users/Lucas/fits/1131m167_ac51-w1-int-3.fits'\n",
    "hdu = fits.getheader(imgpath)\n",
    "w = wcs.WCS(imgpath).celestial\n",
    "\n",
    "n = 35\n",
    "w.array_shape = (1024*n-1,1024*n-1)\n",
    "w.wcs.crpix = np.array([(w.array_shape[0]+1)/2,(w.array_shape[0]+1)/2])\n",
    "w.wcs.crval = np.array([t1.ra.value,t1.dec.value])\n",
    "\n",
    "srcs = c[:6]\n",
    "\n",
    "#xoffs = [-2.2, 2.2,-2.2, 2.2, 2.2,-2.2]\n",
    "#yoffs = [ 0, 0, 0, 0, 0, 0]\n",
    "\n",
    "fig1 = plt.figure(figsize=(7,7));\n",
    "ax = aplpy.FITSFigure(w, figure=fig1,convention='calabretta')\n",
    "\n",
    "ax.axis_labels.set_font(size='14')\n",
    "ax.tick_labels.set_font(size='14');\n",
    "\n",
    "ax.ax.grid(True)\n",
    "ax.add_scalebar(3*u.deg,'3 deg')\n",
    "\n",
    "ax.show_markers(t1.ra.deg,t1.dec.deg,s=50,marker='o',\n",
    "                edgecolor='red',linewidth=1,fc='blue',zorder=99)\n",
    "ax.show_markers(t2.ra.deg,t2.dec.deg,s=50,marker='o',\n",
    "                edgecolor='blue',linewidth=1,fc='red',zorder=99)\n",
    "\n",
    "ax.show_markers(c1.ra.deg,c1.dec.deg,s=50,\n",
    "                marker='s',edgecolor='k',linewidth=0.5,fc='w',zorder=99);\n",
    "\n",
    "ax.show_markers(I1.ra.deg,I1.dec.deg,s=50,\n",
    "                marker='s',edgecolor='b',linewidth=0.5,fc='b',zorder=99);\n",
    "\n",
    "#for i in range(len(names)):\n",
    "#    ax.add_label(c1[i].ra.deg,c1[i].dec.deg+0.5,names[i])\n"
   ]
  },
  {
   "cell_type": "code",
   "execution_count": 58,
   "metadata": {},
   "outputs": [
    {
     "ename": "NameError",
     "evalue": "name 'icrf3' is not defined",
     "output_type": "error",
     "traceback": [
      "\u001b[0;31m---------------------------------------------------------------------------\u001b[0m",
      "\u001b[0;31mNameError\u001b[0m                                 Traceback (most recent call last)",
      "Cell \u001b[0;32mIn[58], line 1\u001b[0m\n\u001b[0;32m----> 1\u001b[0m \u001b[43micrf3\u001b[49m[ICRF3\u001b[38;5;241m.\u001b[39mseparation(t1)\u001b[38;5;241m.\u001b[39mvalue\u001b[38;5;241m<\u001b[39m\u001b[38;5;241m3\u001b[39m,\u001b[38;5;241m2\u001b[39m]\n",
      "\u001b[0;31mNameError\u001b[0m: name 'icrf3' is not defined"
     ]
    }
   ],
   "source": [
    "icrf3[ICRF3.separation(t1).value<3,2]"
   ]
  },
  {
   "cell_type": "code",
   "execution_count": 55,
   "metadata": {},
   "outputs": [],
   "source": [
    "from astropy.time import Time as aTime\n",
    "import numpy as np\n",
    "\n",
    "with open('loop.txt','r+') as w:\n",
    "    times = np.array(w.readlines())\n",
    "\n"
   ]
  },
  {
   "cell_type": "code",
   "execution_count": 59,
   "metadata": {},
   "outputs": [
    {
     "data": {
      "text/plain": [
       "array([    3.98333333,     4.        ,     4.01666667,     4.03333333,\n",
       "           4.06666667,     4.08333333,     4.13333333,     4.21666667,\n",
       "           4.28333333,     4.38333333,     4.46666667,     4.56666667,\n",
       "           4.66666667,     4.78333333,     4.9       ,     5.01666667,\n",
       "           5.13333333,     5.28333333,     5.36666667,     5.43333334,\n",
       "           5.45      ,     5.38333333,     5.28333333,     5.21666667,\n",
       "           5.16666667,     5.1       ,     5.01666667,     4.91666667,\n",
       "           4.8       ,     4.71666667,     4.61666667,     4.51666666,\n",
       "           4.43333334,     4.35      ,     4.28333333,     4.25      ,\n",
       "           4.25      ,     4.28333333,     4.28333333,     4.31666667,\n",
       "           4.31666667,     4.35      ,     4.36666667,     4.38333333,\n",
       "           4.38333333,     4.45      ,     4.46666667,     4.51666667,\n",
       "           4.55      ,     4.6       ,     4.6       ,     4.65      ,\n",
       "           4.66666667,     4.66666667,     4.7       ,     4.73333333,\n",
       "           4.73333333,     4.75      ,     4.75      ,     4.7       ,\n",
       "           4.68333333,     4.63333333,     4.58333333,     4.56666667,\n",
       "           4.55      ,     4.53333333,     4.5       ,     4.46666667,\n",
       "           4.45      ,     4.4       ,     4.36666667,     4.35      ,\n",
       "           4.3       ,     4.25      ,     4.23333334, -1435.81666667,\n",
       "           4.16666667,     4.15      ,     4.13333333,     4.1       ,\n",
       "           4.08333333,     4.06666667,     4.05      ,     4.03333333,\n",
       "           4.05      ,     4.03333333,     4.01666667,     4.03333333,\n",
       "           4.        ,     4.01666667,     4.        ,     3.98333333,\n",
       "           3.98333333,     3.98333333,     3.96666667,     3.95      ,\n",
       "           3.95      ,     3.93333333,     3.93333333])"
      ]
     },
     "execution_count": 59,
     "metadata": {},
     "output_type": "execute_result"
    }
   ],
   "source": [
    "(np.diff(aTime([datetime.datetime.strptime(s,'%H:%M:%S\\n') for s in times]).mjd)*86400/60)"
   ]
  },
  {
   "cell_type": "code",
   "execution_count": 5,
   "metadata": {},
   "outputs": [],
   "source": [
    "t1 = SkyCoord('16:41:06.05 -47:07:02.5',unit=(u.hourangle,u.degree)) "
   ]
  },
  {
   "cell_type": "code",
   "execution_count": 27,
   "metadata": {},
   "outputs": [],
   "source": [
    "with open('FringeFindersSpirals.txt','r+') as w:\n",
    "    ffs = np.array([s.split()[0:3] for s in w.readlines()[6:]])"
   ]
  },
  {
   "cell_type": "code",
   "execution_count": 48,
   "metadata": {},
   "outputs": [
    {
     "data": {
      "text/plain": [
       "array([180.23888461, 166.32570696, 165.59312037, 160.94847277,\n",
       "       123.62850206, 124.0489553 , 109.81314179,  83.40540557,\n",
       "        74.05795821,  69.78303633,  57.18416514,  33.66580089,\n",
       "        36.43007796,  46.04905264,  46.22214837,  44.67012633,\n",
       "       135.81822191, 134.77654842, 130.49556638, 128.14523218,\n",
       "       126.19160954, 118.38852197, 117.414585  , 117.61147027,\n",
       "       114.53296622, 109.8131418 , 106.00736778,  98.76824779,\n",
       "        96.58554157,  90.80943566,  89.84084658,  89.63921167,\n",
       "        87.73806773,  86.12979985,  81.27985403,  78.15118805,\n",
       "        79.19421974,  76.27069544,  75.27292989,  66.13636947,\n",
       "        60.66728941,  61.61509717,  54.99016873,  48.91784227,\n",
       "        48.8596312 ,  49.23086494,  45.55288782,  23.27793134,\n",
       "        24.02559694,  21.61948271,  23.23427332,  17.80569038,\n",
       "        17.99737428,  16.31217604,   9.4620205 ,  10.48549131,\n",
       "        13.11279691,  15.07072028,  14.21482391,  17.55108014,\n",
       "         4.29360536,  21.512678  ,  10.59111657,  21.70611491,\n",
       "        16.27552099,  21.71974295])"
      ]
     },
     "execution_count": 48,
     "metadata": {},
     "output_type": "execute_result"
    }
   ],
   "source": [
    "((ffs[:,1:3].astype(float) - [t1.ra.deg,t1.dec.deg])**2).sum(1)**0.5"
   ]
  },
  {
   "cell_type": "markdown",
   "metadata": {},
   "source": [
    "## Proper Motion stuff"
   ]
  },
  {
   "cell_type": "code",
   "execution_count": 67,
   "metadata": {},
   "outputs": [],
   "source": [
    "masers = np.array(\n",
    "[[292.46,+0.16,   11],\n",
    "[300.50,-0.17,     8],\n",
    "[313.46,+0.19,    -9],\n",
    "[320.42,+0.08,    -8],\n",
    "[329.61,+0.11,   -60],\n",
    "[337.70,-0.05,   -54],\n",
    "[350.47,+0.02,    -6],\n",
    "[359.61,-0.24,    23],\n",
    "[000.49,+0.18,     1],\n",
    "[001.14,-0.12,   -15],\n",
    "[001.71,-0.08,    -8],\n",
    "[003.25,+0.01,     2],\n",
    "[299.77,-0.00,    -7],\n",
    "[340.78,-0.09,  -100 ]])\n",
    "\n",
    "l = masers[:,0]\n",
    "l[l < 180] += +360\n",
    "v = masers[:,-1]"
   ]
  },
  {
   "cell_type": "code",
   "execution_count": 70,
   "metadata": {},
   "outputs": [
    {
     "data": {
      "text/plain": [
       "(-150.0, 50.0)"
      ]
     },
     "execution_count": 70,
     "metadata": {},
     "output_type": "execute_result"
    },
    {
     "data": {
      "image/png": "[encoded data removed]",
      "text/plain": [
       "<Figure size 640x480 with 1 Axes>"
      ]
     },
     "metadata": {},
     "output_type": "display_data"
    }
   ],
   "source": [
    "fig, ax = plt.subplots(1)\n",
    "ax.plot(l,v,'ro')\n",
    "ax.set_ylim(-150,50)"
   ]
  },
  {
   "cell_type": "code",
   "execution_count": null,
   "metadata": {},
   "outputs": [],
   "source": []
  }
 ],
 "metadata": {
  "kernelspec": {
   "display_name": "Python 3",
   "language": "python",
   "name": "python3"
  },
  "language_info": {
   "codemirror_mode": {
    "name": "ipython",
    "version": 3
   },
   "file_extension": ".py",
   "mimetype": "text/x-python",
   "name": "python",
   "nbconvert_exporter": "python",
   "pygments_lexer": "ipython3",
   "version": "3.10.13"
  }
 },
 "nbformat": 4,
 "nbformat_minor": 4
}
