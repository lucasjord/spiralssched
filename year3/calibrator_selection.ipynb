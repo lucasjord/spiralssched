{
 "cells": [
  {
   "cell_type": "code",
   "execution_count": 161,
   "metadata": {},
   "outputs": [],
   "source": [
    "import numpy as np\n",
    "import matplotlib.pyplot as plt\n",
    "from scipy.optimize import least_squares\n",
    "from astropy.coordinates import SkyCoord\n",
    "from astropy import units as u\n",
    "import peakutils\n",
    "\n",
    "import aplpy\n",
    "from astropy.io import fits\n",
    "import astropy.wcs as wcs\n",
    "\n",
    "from astropy.time import Time as aTime\n",
    "\n",
    "import datetime as dt, time\n",
    "\n",
    "import pandas as pd\n",
    "\n",
    "import warnings\n",
    "warnings.filterwarnings(\"ignore\")"
   ]
  },
  {
   "cell_type": "code",
   "execution_count": 187,
   "metadata": {},
   "outputs": [],
   "source": [
    "with open('rfc_2023b.txt') as w:\n",
    "    rfc2023b = np.array([s.split() for s in w.readlines()[211:]])\n",
    "    \n",
    "r = rfc2023b[:,(0,2,3,6,9,10,11,12,17,18,15,16)]\n",
    "\n",
    "ra_hms = np.zeros(shape=rfc2023b.shape[0]).astype(str)\n",
    "dc_dms = np.zeros(shape=rfc2023b.shape[0]).astype(str)\n",
    "for i in range(rfc2023b.shape[0]):\n",
    "    ra_hms[i]= '{}h{}m{}s'.format(rfc2023b[i,3],rfc2023b[i,4],rfc2023b[i,5])\n",
    "    dc_dms[i]= '{}d{}m{}s'.format(rfc2023b[i,6],rfc2023b[i,7],rfc2023b[i,8])\n",
    "    \n",
    "r[:,2] = ra_hms\n",
    "r[:,3] = dc_dms\n",
    "\n",
    "R = pd.DataFrame(r)"
   ]
  },
  {
   "cell_type": "code",
   "execution_count": 194,
   "metadata": {
    "scrolled": false
   },
   "outputs": [],
   "source": [
    "t1 = SkyCoord('18h40m34.51s -04d57m14.4s')\n",
    "t2 = SkyCoord('18h41m51.06s -05d01m43.5s')\n",
    "c = SkyCoord(ra_hms,dc_dms)\n",
    "\n",
    "sep1 = (c.separation(t1).value < 5.0)\n",
    "sep2 = (c.separation(t2).value < 5.0)"
   ]
  },
  {
   "cell_type": "code",
   "execution_count": 195,
   "metadata": {},
   "outputs": [],
   "source": [
    "indx  = (R[8].astype(float) > .07)*sep1\n",
    "c1    = c[indx]\n",
    "names = r[indx,1]"
   ]
  },
  {
   "cell_type": "code",
   "execution_count": 196,
   "metadata": {},
   "outputs": [
    {
     "data": {
      "text/plain": [
       "array(['J1821-0502', 'J1825-0737', 'J1827-0405', 'J1834-0301',\n",
       "       'J1848-0822', 'J1849-0856', 'J1850-0906', 'J1857-0303',\n",
       "       'J1900-0415'], dtype='<U10')"
      ]
     },
     "execution_count": 196,
     "metadata": {},
     "output_type": "execute_result"
    }
   ],
   "source": [
    "names"
   ]
  },
  {
   "cell_type": "code",
   "execution_count": 192,
   "metadata": {},
   "outputs": [
    {
     "data": {
      "image/png": "[encoded data removed]",
      "text/plain": [
       "<Figure size 504x504 with 1 Axes>"
      ]
     },
     "metadata": {
      "needs_background": "light"
     },
     "output_type": "display_data"
    }
   ],
   "source": [
    "imgpath = '/Users/Lucas/fits/1131m167_ac51-w1-int-3.fits'\n",
    "hdu = fits.getheader(imgpath)\n",
    "w = wcs.WCS(imgpath).celestial\n",
    "\n",
    "n = 35\n",
    "w.array_shape = (1024*n-1,1024*n-1)\n",
    "w.wcs.crpix = np.array([(w.array_shape[0]+1)/2,(w.array_shape[0]+1)/2])\n",
    "w.wcs.crval = np.array([t1.ra.value,t1.dec.value])\n",
    "\n",
    "srcs = c[:6]\n",
    "\n",
    "#xoffs = [-2.2, 2.2,-2.2, 2.2, 2.2,-2.2]\n",
    "#yoffs = [ 0, 0, 0, 0, 0, 0]\n",
    "\n",
    "fig1 = plt.figure(figsize=(7,7));\n",
    "ax = aplpy.FITSFigure(w, figure=fig1,convention='calabretta')\n",
    "\n",
    "ax.axis_labels.set_font(size='14')\n",
    "ax.tick_labels.set_font(size='14');\n",
    "\n",
    "ax.ax.grid(True)\n",
    "ax.add_scalebar(3*u.deg,'3 deg')\n",
    "\n",
    "ax.show_markers(t1.ra.deg,t1.dec.deg,s=50,marker='o',\n",
    "                edgecolor='red',linewidth=1,fc='blue',zorder=99)\n",
    "ax.show_markers(t2.ra.deg,t2.dec.deg,s=50,marker='o',\n",
    "                edgecolor='blue',linewidth=1,fc='red',zorder=99)\n",
    "\n",
    "ax.show_markers(c1.ra.deg,c1.dec.deg,s=50,\n",
    "                marker='s',edgecolor='k',linewidth=0.5,fc='k',zorder=99);\n",
    "\n",
    "for i in range(len(names)):\n",
    "    ax.add_label(c1[i].ra.deg,c1[i].dec.deg+0.5,names[i])\n"
   ]
  },
  {
   "cell_type": "code",
   "execution_count": 193,
   "metadata": {},
   "outputs": [
    {
     "data": {
      "text/html": [
       "<div>\n",
       "<style scoped>\n",
       "    .dataframe tbody tr th:only-of-type {\n",
       "        vertical-align: middle;\n",
       "    }\n",
       "\n",
       "    .dataframe tbody tr th {\n",
       "        vertical-align: top;\n",
       "    }\n",
       "\n",
       "    .dataframe thead th {\n",
       "        text-align: right;\n",
       "    }\n",
       "</style>\n",
       "<table border=\"1\" class=\"dataframe\">\n",
       "  <thead>\n",
       "    <tr style=\"text-align: right;\">\n",
       "      <th></th>\n",
       "      <th>0</th>\n",
       "      <th>1</th>\n",
       "      <th>2</th>\n",
       "      <th>3</th>\n",
       "      <th>4</th>\n",
       "      <th>5</th>\n",
       "      <th>6</th>\n",
       "      <th>7</th>\n",
       "      <th>8</th>\n",
       "      <th>9</th>\n",
       "      <th>10</th>\n",
       "      <th>11</th>\n",
       "    </tr>\n",
       "  </thead>\n",
       "  <tbody>\n",
       "    <tr>\n",
       "      <th>16973</th>\n",
       "      <td>C</td>\n",
       "      <td>J1821-0502</td>\n",
       "      <td>18h21m11.8</td>\n",
       "      <td>-05d02m20.</td>\n",
       "      <td>0.12</td>\n",
       "      <td>0.17</td>\n",
       "      <td>0.012</td>\n",
       "      <td>693</td>\n",
       "      <td>0.196</td>\n",
       "      <td>0.029</td>\n",
       "      <td>-1.00</td>\n",
       "      <td>-1.00</td>\n",
       "    </tr>\n",
       "    <tr>\n",
       "      <th>17043</th>\n",
       "      <td>C</td>\n",
       "      <td>J1825-0737</td>\n",
       "      <td>18h25m37.6</td>\n",
       "      <td>-07d37m30.</td>\n",
       "      <td>0.11</td>\n",
       "      <td>0.15</td>\n",
       "      <td>0.027</td>\n",
       "      <td>1862</td>\n",
       "      <td>0.305</td>\n",
       "      <td>0.106</td>\n",
       "      <td>0.318</td>\n",
       "      <td>0.020</td>\n",
       "    </tr>\n",
       "    <tr>\n",
       "      <th>17069</th>\n",
       "      <td>C</td>\n",
       "      <td>J1827-0405</td>\n",
       "      <td>18h27m45.0</td>\n",
       "      <td>-04d05m44.</td>\n",
       "      <td>0.12</td>\n",
       "      <td>0.16</td>\n",
       "      <td>-0.078</td>\n",
       "      <td>2389</td>\n",
       "      <td>0.217</td>\n",
       "      <td>0.047</td>\n",
       "      <td>0.354</td>\n",
       "      <td>0.025</td>\n",
       "    </tr>\n",
       "    <tr>\n",
       "      <th>17179</th>\n",
       "      <td>C</td>\n",
       "      <td>J1834-0301</td>\n",
       "      <td>18h34m14.0</td>\n",
       "      <td>-03d01m19.</td>\n",
       "      <td>0.12</td>\n",
       "      <td>0.17</td>\n",
       "      <td>0.034</td>\n",
       "      <td>1719</td>\n",
       "      <td>0.148</td>\n",
       "      <td>0.025</td>\n",
       "      <td>0.147</td>\n",
       "      <td>0.026</td>\n",
       "    </tr>\n",
       "    <tr>\n",
       "      <th>17363</th>\n",
       "      <td>C</td>\n",
       "      <td>J1848-0822</td>\n",
       "      <td>18h48m13.8</td>\n",
       "      <td>-08d22m01.</td>\n",
       "      <td>0.58</td>\n",
       "      <td>1.26</td>\n",
       "      <td>-0.341</td>\n",
       "      <td>36</td>\n",
       "      <td>0.081</td>\n",
       "      <td>0.053</td>\n",
       "      <td>0.077</td>\n",
       "      <td>0.022</td>\n",
       "    </tr>\n",
       "    <tr>\n",
       "      <th>17393</th>\n",
       "      <td>C</td>\n",
       "      <td>J1849-0856</td>\n",
       "      <td>18h49m54.4</td>\n",
       "      <td>-08d56m55.</td>\n",
       "      <td>0.55</td>\n",
       "      <td>1.14</td>\n",
       "      <td>-0.188</td>\n",
       "      <td>36</td>\n",
       "      <td>0.084</td>\n",
       "      <td>-1.00</td>\n",
       "      <td>0.092</td>\n",
       "      <td>-1.00</td>\n",
       "    </tr>\n",
       "    <tr>\n",
       "      <th>17402</th>\n",
       "      <td>C</td>\n",
       "      <td>J1850-0906</td>\n",
       "      <td>18h50m37.2</td>\n",
       "      <td>-09d06m35.</td>\n",
       "      <td>0.38</td>\n",
       "      <td>0.80</td>\n",
       "      <td>0.009</td>\n",
       "      <td>85</td>\n",
       "      <td>0.098</td>\n",
       "      <td>0.074</td>\n",
       "      <td>0.077</td>\n",
       "      <td>0.051</td>\n",
       "    </tr>\n",
       "    <tr>\n",
       "      <th>17481</th>\n",
       "      <td>C</td>\n",
       "      <td>J1857-0303</td>\n",
       "      <td>18h57m19.8</td>\n",
       "      <td>-03d03m25.</td>\n",
       "      <td>0.47</td>\n",
       "      <td>0.95</td>\n",
       "      <td>-0.241</td>\n",
       "      <td>36</td>\n",
       "      <td>0.095</td>\n",
       "      <td>0.053</td>\n",
       "      <td>0.067</td>\n",
       "      <td>0.037</td>\n",
       "    </tr>\n",
       "    <tr>\n",
       "      <th>17517</th>\n",
       "      <td>C</td>\n",
       "      <td>J1900-0415</td>\n",
       "      <td>19h00m18.0</td>\n",
       "      <td>-04d15m35.</td>\n",
       "      <td>0.86</td>\n",
       "      <td>1.30</td>\n",
       "      <td>-0.004</td>\n",
       "      <td>15</td>\n",
       "      <td>0.090</td>\n",
       "      <td>-1.00</td>\n",
       "      <td>0.081</td>\n",
       "      <td>-1.00</td>\n",
       "    </tr>\n",
       "  </tbody>\n",
       "</table>\n",
       "</div>"
      ],
      "text/plain": [
       "      0           1           2           3     4     5       6     7      8   \\\n",
       "16973  C  J1821-0502  18h21m11.8  -05d02m20.  0.12  0.17   0.012   693  0.196   \n",
       "17043  C  J1825-0737  18h25m37.6  -07d37m30.  0.11  0.15   0.027  1862  0.305   \n",
       "17069  C  J1827-0405  18h27m45.0  -04d05m44.  0.12  0.16  -0.078  2389  0.217   \n",
       "17179  C  J1834-0301  18h34m14.0  -03d01m19.  0.12  0.17   0.034  1719  0.148   \n",
       "17363  C  J1848-0822  18h48m13.8  -08d22m01.  0.58  1.26  -0.341    36  0.081   \n",
       "17393  C  J1849-0856  18h49m54.4  -08d56m55.  0.55  1.14  -0.188    36  0.084   \n",
       "17402  C  J1850-0906  18h50m37.2  -09d06m35.  0.38  0.80   0.009    85  0.098   \n",
       "17481  C  J1857-0303  18h57m19.8  -03d03m25.  0.47  0.95  -0.241    36  0.095   \n",
       "17517  C  J1900-0415  19h00m18.0  -04d15m35.  0.86  1.30  -0.004    15  0.090   \n",
       "\n",
       "          9      10     11  \n",
       "16973  0.029  -1.00  -1.00  \n",
       "17043  0.106  0.318  0.020  \n",
       "17069  0.047  0.354  0.025  \n",
       "17179  0.025  0.147  0.026  \n",
       "17363  0.053  0.077  0.022  \n",
       "17393  -1.00  0.092  -1.00  \n",
       "17402  0.074  0.077  0.051  \n",
       "17481  0.053  0.067  0.037  \n",
       "17517  -1.00  0.081  -1.00  "
      ]
     },
     "execution_count": 193,
     "metadata": {},
     "output_type": "execute_result"
    }
   ],
   "source": [
    "R[(R[8].astype(float) > .07)*sep1]"
   ]
  },
  {
   "cell_type": "code",
   "execution_count": 183,
   "metadata": {},
   "outputs": [],
   "source": [
    "t = np.arange(30,120,1)\n",
    "rms = 1.2*np.sqrt(3500*750)/np.sqrt(2*2*256e6*t)*1000"
   ]
  },
  {
   "cell_type": "code",
   "execution_count": 184,
   "metadata": {},
   "outputs": [
    {
     "data": {
      "text/plain": [
       "[<matplotlib.lines.Line2D at 0x11ed23f98>]"
      ]
     },
     "execution_count": 184,
     "metadata": {},
     "output_type": "execute_result"
    },
    {
     "data": {
      "image/png": "[encoded data removed]",
      "text/plain": [
       "<Figure size 432x288 with 1 Axes>"
      ]
     },
     "metadata": {
      "needs_background": "light"
     },
     "output_type": "display_data"
    }
   ],
   "source": [
    "fig, ax = plt.subplots(1)\n",
    "ax.plot(t,rms,'.')"
   ]
  },
  {
   "cell_type": "code",
   "execution_count": 199,
   "metadata": {},
   "outputs": [
    {
     "data": {
      "text/plain": [
       "array([4.82691179, 4.57491038, 3.30933333, 2.49649015, 3.90668145,\n",
       "       4.61729572, 4.84554331, 4.58876695, 4.96421352])"
      ]
     },
     "execution_count": 199,
     "metadata": {},
     "output_type": "execute_result"
    }
   ],
   "source": [
    "c.separation(t1).value[(R[8].astype(float) > .07)*sep1]"
   ]
  },
  {
   "cell_type": "code",
   "execution_count": 239,
   "metadata": {},
   "outputs": [],
   "source": [
    "#with open('icrf3.txt') as w:\n",
    "#    icrf3 = [s.split() for s in w.readlines()[22:]]"
   ]
  },
  {
   "cell_type": "code",
   "execution_count": 261,
   "metadata": {},
   "outputs": [],
   "source": [
    "icrf3 = pd.read_fwf('icrf3.txt',skiprows=22).values"
   ]
  },
  {
   "cell_type": "code",
   "execution_count": 265,
   "metadata": {},
   "outputs": [],
   "source": [
    "ra_hms = np.zeros(shape=icrf3.shape[0]).astype(str)\n",
    "dc_dms = np.zeros(shape=icrf3.shape[0]).astype(str)\n",
    "for i in range(icrf3.shape[0]):\n",
    "    ra_hms[i]= '{}h{}m{}s'.format(icrf3[i,4],icrf3[i,5],icrf3[i,6])\n",
    "    dc_dms[i]= '{}d{}m{}s'.format(icrf3[i,7],icrf3[i,8],icrf3[i,9])"
   ]
  },
  {
   "cell_type": "code",
   "execution_count": 266,
   "metadata": {},
   "outputs": [],
   "source": [
    "ICRF3 = SkyCoord(ra_hms,dc_dms)"
   ]
  },
  {
   "cell_type": "code",
   "execution_count": 294,
   "metadata": {},
   "outputs": [],
   "source": [
    "I1 = ICRF3[ICRF3.separation(t1).value<3]"
   ]
  },
  {
   "cell_type": "code",
   "execution_count": 295,
   "metadata": {},
   "outputs": [],
   "source": [
    "c1 = c[c.separation(t1).value<3]"
   ]
  },
  {
   "cell_type": "code",
   "execution_count": 296,
   "metadata": {},
   "outputs": [
    {
     "data": {
      "image/png": "[encoded data removed]",
      "text/plain": [
       "<Figure size 504x504 with 1 Axes>"
      ]
     },
     "metadata": {
      "needs_background": "light"
     },
     "output_type": "display_data"
    }
   ],
   "source": [
    "imgpath = '/Users/Lucas/fits/1131m167_ac51-w1-int-3.fits'\n",
    "hdu = fits.getheader(imgpath)\n",
    "w = wcs.WCS(imgpath).celestial\n",
    "\n",
    "n = 35\n",
    "w.array_shape = (1024*n-1,1024*n-1)\n",
    "w.wcs.crpix = np.array([(w.array_shape[0]+1)/2,(w.array_shape[0]+1)/2])\n",
    "w.wcs.crval = np.array([t1.ra.value,t1.dec.value])\n",
    "\n",
    "srcs = c[:6]\n",
    "\n",
    "#xoffs = [-2.2, 2.2,-2.2, 2.2, 2.2,-2.2]\n",
    "#yoffs = [ 0, 0, 0, 0, 0, 0]\n",
    "\n",
    "fig1 = plt.figure(figsize=(7,7));\n",
    "ax = aplpy.FITSFigure(w, figure=fig1,convention='calabretta')\n",
    "\n",
    "ax.axis_labels.set_font(size='14')\n",
    "ax.tick_labels.set_font(size='14');\n",
    "\n",
    "ax.ax.grid(True)\n",
    "ax.add_scalebar(3*u.deg,'3 deg')\n",
    "\n",
    "ax.show_markers(t1.ra.deg,t1.dec.deg,s=50,marker='o',\n",
    "                edgecolor='red',linewidth=1,fc='blue',zorder=99)\n",
    "ax.show_markers(t2.ra.deg,t2.dec.deg,s=50,marker='o',\n",
    "                edgecolor='blue',linewidth=1,fc='red',zorder=99)\n",
    "\n",
    "ax.show_markers(c1.ra.deg,c1.dec.deg,s=50,\n",
    "                marker='s',edgecolor='k',linewidth=0.5,fc='w',zorder=99);\n",
    "\n",
    "ax.show_markers(I1.ra.deg,I1.dec.deg,s=50,\n",
    "                marker='s',edgecolor='b',linewidth=0.5,fc='b',zorder=99);\n",
    "\n",
    "#for i in range(len(names)):\n",
    "#    ax.add_label(c1[i].ra.deg,c1[i].dec.deg+0.5,names[i])\n"
   ]
  },
  {
   "cell_type": "code",
   "execution_count": 299,
   "metadata": {},
   "outputs": [
    {
     "data": {
      "text/plain": [
       "array(['1831-030', '1843-069'], dtype=object)"
      ]
     },
     "execution_count": 299,
     "metadata": {},
     "output_type": "execute_result"
    }
   ],
   "source": [
    "icrf3[ICRF3.separation(t1).value<3,2]"
   ]
  },
  {
   "cell_type": "code",
   "execution_count": null,
   "metadata": {},
   "outputs": [],
   "source": []
  }
 ],
 "metadata": {
  "kernelspec": {
   "display_name": "Python [conda env:analysis3] *",
   "language": "python",
   "name": "conda-env-analysis3-py"
  }
 },
 "nbformat": 4,
 "nbformat_minor": 4
}
