{
 "cells": [
  {
   "cell_type": "code",
   "execution_count": 2,
   "metadata": {},
   "outputs": [],
   "source": [
    "import numpy as np\n",
    "import matplotlib.pyplot as plt\n",
    "from scipy.optimize import least_squares\n",
    "from astropy.coordinates import SkyCoord\n",
    "from astropy import units as u\n",
    "import peakutils\n",
    "\n",
    "#import aplpy\n",
    "from astropy.io import fits\n",
    "import astropy.wcs as wcs\n",
    "\n",
    "from astropy.time import Time as aTime\n",
    "\n",
    "import datetime as dt, time\n",
    "\n",
    "import pandas as pd\n",
    "\n",
    "import warnings\n",
    "warnings.filterwarnings(\"ignore\")"
   ]
  },
  {
   "cell_type": "code",
   "execution_count": 3,
   "metadata": {},
   "outputs": [],
   "source": [
    "with open('rfc_2023b.txt') as w:\n",
    "    rfc2023b = np.array([s.split() for s in w.readlines()[211:]])\n",
    "    \n",
    "r = rfc2023b[:,(0,2,3,6,9,10,11,12,15,16,17,18)]\n",
    "\n",
    "ra_hms = np.zeros(shape=rfc2023b.shape[0]).astype(str)\n",
    "dc_dms = np.zeros(shape=rfc2023b.shape[0]).astype(str)\n",
    "for i in range(rfc2023b.shape[0]):\n",
    "    ra_hms[i]= '{}h{}m{}s'.format(rfc2023b[i,3],rfc2023b[i,4],rfc2023b[i,5])\n",
    "    dc_dms[i]= '{}d{}m{}s'.format(rfc2023b[i,6],rfc2023b[i,7],rfc2023b[i,8])\n",
    "    \n",
    "r[:,2] = ra_hms\n",
    "r[:,3] = dc_dms\n",
    "\n",
    "R = pd.DataFrame(r,columns=['G','Name','RA','DEC','xerr','yerr','xyc','obs','C','Cures','X','Xures'])"
   ]
  },
  {
   "cell_type": "code",
   "execution_count": 20,
   "metadata": {
    "scrolled": false
   },
   "outputs": [],
   "source": [
    "#t1 = SkyCoord('18h40m34.51s -04d57m14.4s')\n",
    "#t1 = SkyCoord('18h41m51.06s -05d01m43.5s') \n",
    "#t1 = SkyCoord('18h34m36.84s -08d01m00.7s') #g023\n",
    "#t1 = SkyCoord('18h30m36.07s -10d07m10.9s') #g027.50\n",
    "#t1 = SkyCoord('16:41:06.05 -47:07:02.5',unit=(u.hourangle,u.degree))  #g031.12\n",
    "t1 = SkyCoord('15:00:55 -58:58:52',unit=(u.hourangle,u.degree))  \t#g318\n",
    "\n",
    "c = SkyCoord(ra_hms,dc_dms)\n",
    "\n",
    "sep1 = (c.separation(t1).value < 6.0)"
   ]
  },
  {
   "cell_type": "code",
   "execution_count": 21,
   "metadata": {},
   "outputs": [],
   "source": [
    "indx  = (R['X'].astype(float) > .07)*sep1\n",
    "c1    = c[indx]\n",
    "names = r[indx,1]"
   ]
  },
  {
   "cell_type": "code",
   "execution_count": 22,
   "metadata": {},
   "outputs": [
    {
     "data": {
      "text/plain": [
       "(array(['J1417-5950', 'J1442-5407', 'J1450-5614', 'J1456-5441',\n",
       "        'J1456-5618', 'J1503-6425', 'J1511-6319', 'J1512-5640',\n",
       "        'J1515-5559', 'J1537-5830', 'J1542-5838'], dtype='<U10'),\n",
       " array([5.55931995, 5.46779056, 3.06278621, 4.33690365, 2.74818263,\n",
       "        5.45753105, 4.51926646, 2.80559844, 3.55157808, 4.72486804,\n",
       "        5.4222587 ]))"
      ]
     },
     "execution_count": 22,
     "metadata": {},
     "output_type": "execute_result"
    }
   ],
   "source": [
    "names, c.separation(t1).value[indx]"
   ]
  },
  {
   "cell_type": "code",
   "execution_count": 24,
   "metadata": {},
   "outputs": [
    {
     "data": {
      "text/plain": [
       "[<matplotlib.lines.Line2D at 0x13faab3a0>]"
      ]
     },
     "execution_count": 24,
     "metadata": {},
     "output_type": "execute_result"
    },
    {
     "data": {
      "image/png": "[encoded data removed]",
      "text/plain": [
       "<Figure size 640x480 with 1 Axes>"
      ]
     },
     "metadata": {},
     "output_type": "display_data"
    }
   ],
   "source": [
    "'''imgpath = '/Users/Lucas/fits/1131m167_ac51-w1-int-3.fits'\n",
    "hdu = fits.getheader(imgpath)\n",
    "w = wcs.WCS(imgpath).celestial\n",
    "\n",
    "n = 35\n",
    "w.array_shape = (1024*n-1,1024*n-1)\n",
    "w.wcs.crpix = np.array([(w.array_shape[0]+1)/2,(w.array_shape[0]+1)/2])\n",
    "w.wcs.crval = np.array([t1.ra.value,t1.dec.value])\n",
    "\n",
    "srcs = c[:6]\n",
    "\n",
    "#xoffs = [-2.2, 2.2,-2.2, 2.2, 2.2,-2.2]\n",
    "#yoffs = [ 0, 0, 0, 0, 0, 0]\n",
    "\n",
    "fig1 = plt.figure(figsize=(7,7));\n",
    "ax   = aplpy.FITSFigure(w, figure=fig1,convention='calabretta')\n",
    "\n",
    "ax.axis_labels.set_font(size='14')\n",
    "ax.tick_labels.set_font(size='14');\n",
    "\n",
    "ax.ax.grid(True)\n",
    "ax.add_scalebar(3*u.deg,'3 deg')\n",
    "\n",
    "ax.show_markers(t1.ra.deg,t1.dec.deg,s=50,marker='o',\n",
    "                edgecolor='blue',linewidth=1,fc='red',zorder=99)\n",
    "\n",
    "ax.show_markers(c1.ra.deg,c1.dec.deg,s=50,\n",
    "                marker='s',edgecolor='k',linewidth=0.5,fc='k',zorder=99);\n",
    "\n",
    "for i in range(len(names)):\n",
    "    ax.add_label(c1[i].ra.deg,c1[i].dec.deg+0.5,names[i])'''\n",
    "\n",
    "fig, ax = plt.subplots(1)\n",
    "ax.plot(c[indx].ra.deg - t1.ra.deg,c[indx].dec.deg - t1.dec.deg,'o')\n",
    "ax.plot(0,0,'ro')\n",
    "ax."
   ]
  },
  {
   "cell_type": "code",
   "execution_count": 9,
   "metadata": {},
   "outputs": [
    {
     "data": {
      "text/html": [
       "<div>\n",
       "<style scoped>\n",
       "    .dataframe tbody tr th:only-of-type {\n",
       "        vertical-align: middle;\n",
       "    }\n",
       "\n",
       "    .dataframe tbody tr th {\n",
       "        vertical-align: top;\n",
       "    }\n",
       "\n",
       "    .dataframe thead th {\n",
       "        text-align: right;\n",
       "    }\n",
       "</style>\n",
       "<table border=\"1\" class=\"dataframe\">\n",
       "  <thead>\n",
       "    <tr style=\"text-align: right;\">\n",
       "      <th></th>\n",
       "      <th>G</th>\n",
       "      <th>Name</th>\n",
       "      <th>RA</th>\n",
       "      <th>DEC</th>\n",
       "      <th>xerr</th>\n",
       "      <th>yerr</th>\n",
       "      <th>xyc</th>\n",
       "      <th>obs</th>\n",
       "      <th>C</th>\n",
       "      <th>Cures</th>\n",
       "      <th>X</th>\n",
       "      <th>Xures</th>\n",
       "    </tr>\n",
       "  </thead>\n",
       "  <tbody>\n",
       "    <tr>\n",
       "      <th>13921</th>\n",
       "      <td>C</td>\n",
       "      <td>J1450-5614</td>\n",
       "      <td>14h50m35.0</td>\n",
       "      <td>-56d14m52.</td>\n",
       "      <td>1.79</td>\n",
       "      <td>0.69</td>\n",
       "      <td>-0.505</td>\n",
       "      <td>43</td>\n",
       "      <td>-1.00</td>\n",
       "      <td>-1.00</td>\n",
       "      <td>0.162</td>\n",
       "      <td>0.095</td>\n",
       "    </tr>\n",
       "    <tr>\n",
       "      <th>14007</th>\n",
       "      <td>C</td>\n",
       "      <td>J1456-5441</td>\n",
       "      <td>14h56m03.6</td>\n",
       "      <td>-54d41m42.</td>\n",
       "      <td>0.42</td>\n",
       "      <td>0.37</td>\n",
       "      <td>0.146</td>\n",
       "      <td>79</td>\n",
       "      <td>-1.00</td>\n",
       "      <td>-1.00</td>\n",
       "      <td>0.085</td>\n",
       "      <td>0.082</td>\n",
       "    </tr>\n",
       "    <tr>\n",
       "      <th>14008</th>\n",
       "      <td>C</td>\n",
       "      <td>J1456-5618</td>\n",
       "      <td>14h56m04.2</td>\n",
       "      <td>-56d18m37.</td>\n",
       "      <td>0.64</td>\n",
       "      <td>0.37</td>\n",
       "      <td>0.099</td>\n",
       "      <td>48</td>\n",
       "      <td>-1.00</td>\n",
       "      <td>-1.00</td>\n",
       "      <td>0.100</td>\n",
       "      <td>0.064</td>\n",
       "    </tr>\n",
       "    <tr>\n",
       "      <th>14248</th>\n",
       "      <td>C</td>\n",
       "      <td>J1511-6319</td>\n",
       "      <td>15h11m16.1</td>\n",
       "      <td>-63d19m31.</td>\n",
       "      <td>3.26</td>\n",
       "      <td>1.18</td>\n",
       "      <td>0.006</td>\n",
       "      <td>31</td>\n",
       "      <td>-1.00</td>\n",
       "      <td>-1.00</td>\n",
       "      <td>0.113</td>\n",
       "      <td>0.073</td>\n",
       "    </tr>\n",
       "    <tr>\n",
       "      <th>14276</th>\n",
       "      <td>C</td>\n",
       "      <td>J1512-5640</td>\n",
       "      <td>15h12m55.8</td>\n",
       "      <td>-56d40m30.</td>\n",
       "      <td>0.79</td>\n",
       "      <td>0.37</td>\n",
       "      <td>0.166</td>\n",
       "      <td>106</td>\n",
       "      <td>-1.00</td>\n",
       "      <td>-1.00</td>\n",
       "      <td>0.571</td>\n",
       "      <td>0.290</td>\n",
       "    </tr>\n",
       "    <tr>\n",
       "      <th>14313</th>\n",
       "      <td>C</td>\n",
       "      <td>J1515-5559</td>\n",
       "      <td>15h15m12.6</td>\n",
       "      <td>-55d59m32.</td>\n",
       "      <td>0.21</td>\n",
       "      <td>0.15</td>\n",
       "      <td>-0.145</td>\n",
       "      <td>190</td>\n",
       "      <td>-1.00</td>\n",
       "      <td>-1.00</td>\n",
       "      <td>1.466</td>\n",
       "      <td>0.978</td>\n",
       "    </tr>\n",
       "    <tr>\n",
       "      <th>14623</th>\n",
       "      <td>C</td>\n",
       "      <td>J1537-5830</td>\n",
       "      <td>15h37m10.8</td>\n",
       "      <td>-58d30m10.</td>\n",
       "      <td>1.08</td>\n",
       "      <td>0.44</td>\n",
       "      <td>0.168</td>\n",
       "      <td>60</td>\n",
       "      <td>-1.00</td>\n",
       "      <td>-1.00</td>\n",
       "      <td>0.083</td>\n",
       "      <td>0.107</td>\n",
       "    </tr>\n",
       "  </tbody>\n",
       "</table>\n",
       "</div>"
      ],
      "text/plain": [
       "       G        Name          RA         DEC  xerr  yerr     xyc  obs      C  \\\n",
       "13921  C  J1450-5614  14h50m35.0  -56d14m52.  1.79  0.69  -0.505   43  -1.00   \n",
       "14007  C  J1456-5441  14h56m03.6  -54d41m42.  0.42  0.37   0.146   79  -1.00   \n",
       "14008  C  J1456-5618  14h56m04.2  -56d18m37.  0.64  0.37   0.099   48  -1.00   \n",
       "14248  C  J1511-6319  15h11m16.1  -63d19m31.  3.26  1.18   0.006   31  -1.00   \n",
       "14276  C  J1512-5640  15h12m55.8  -56d40m30.  0.79  0.37   0.166  106  -1.00   \n",
       "14313  C  J1515-5559  15h15m12.6  -55d59m32.  0.21  0.15  -0.145  190  -1.00   \n",
       "14623  C  J1537-5830  15h37m10.8  -58d30m10.  1.08  0.44   0.168   60  -1.00   \n",
       "\n",
       "       Cures      X  Xures  \n",
       "13921  -1.00  0.162  0.095  \n",
       "14007  -1.00  0.085  0.082  \n",
       "14008  -1.00  0.100  0.064  \n",
       "14248  -1.00  0.113  0.073  \n",
       "14276  -1.00  0.571  0.290  \n",
       "14313  -1.00  1.466  0.978  \n",
       "14623  -1.00  0.083  0.107  "
      ]
     },
     "execution_count": 9,
     "metadata": {},
     "output_type": "execute_result"
    }
   ],
   "source": [
    "R[(R['X'].astype(float) > .07)*sep1]"
   ]
  },
  {
   "cell_type": "code",
   "execution_count": 50,
   "metadata": {},
   "outputs": [],
   "source": [
    "t = np.arange(10,60,1)\n",
    "rms = 1.2*np.sqrt(3500*550)/np.sqrt(2*2*128e6*t)*1000"
   ]
  },
  {
   "cell_type": "code",
   "execution_count": 51,
   "metadata": {},
   "outputs": [
    {
     "data": {
      "text/plain": [
       "Text(0, 0.5, 'rms (mJy)')"
      ]
     },
     "execution_count": 51,
     "metadata": {},
     "output_type": "execute_result"
    },
    {
     "data": {
      "image/png": "[encoded data removed]",
      "text/plain": [
       "<Figure size 640x480 with 1 Axes>"
      ]
     },
     "metadata": {},
     "output_type": "display_data"
    }
   ],
   "source": [
    "fig, ax = plt.subplots(1)\n",
    "ax.plot(t,rms,'.')\n",
    "ax.set_xlabel('int time (s)')\n",
    "ax.set_ylabel('rms (mJy)')"
   ]
  },
  {
   "cell_type": "code",
   "execution_count": 199,
   "metadata": {},
   "outputs": [
    {
     "data": {
      "text/plain": [
       "array([4.82691179, 4.57491038, 3.30933333, 2.49649015, 3.90668145,\n",
       "       4.61729572, 4.84554331, 4.58876695, 4.96421352])"
      ]
     },
     "execution_count": 199,
     "metadata": {},
     "output_type": "execute_result"
    }
   ],
   "source": [
    "c.separation(t1).value[(R[8].astype(float) > .07)*sep1]"
   ]
  },
  {
   "cell_type": "code",
   "execution_count": 239,
   "metadata": {},
   "outputs": [],
   "source": [
    "#with open('icrf3.txt') as w:\n",
    "#    icrf3 = [s.split() for s in w.readlines()[22:]]"
   ]
  },
  {
   "cell_type": "code",
   "execution_count": 261,
   "metadata": {},
   "outputs": [],
   "source": [
    "icrf3 = pd.read_fwf('icrf3.txt',skiprows=22).values"
   ]
  },
  {
   "cell_type": "code",
   "execution_count": 265,
   "metadata": {},
   "outputs": [],
   "source": [
    "ra_hms = np.zeros(shape=icrf3.shape[0]).astype(str)\n",
    "dc_dms = np.zeros(shape=icrf3.shape[0]).astype(str)\n",
    "for i in range(icrf3.shape[0]):\n",
    "    ra_hms[i]= '{}h{}m{}s'.format(icrf3[i,4],icrf3[i,5],icrf3[i,6])\n",
    "    dc_dms[i]= '{}d{}m{}s'.format(icrf3[i,7],icrf3[i,8],icrf3[i,9])"
   ]
  },
  {
   "cell_type": "code",
   "execution_count": 266,
   "metadata": {},
   "outputs": [],
   "source": [
    "ICRF3 = SkyCoord(ra_hms,dc_dms)"
   ]
  },
  {
   "cell_type": "code",
   "execution_count": 294,
   "metadata": {},
   "outputs": [],
   "source": [
    "I1 = ICRF3[ICRF3.separation(t1).value<3]"
   ]
  },
  {
   "cell_type": "code",
   "execution_count": 295,
   "metadata": {},
   "outputs": [],
   "source": [
    "c1 = c[c.separation(t1).value<3]"
   ]
  },
  {
   "cell_type": "code",
   "execution_count": 296,
   "metadata": {},
   "outputs": [
    {
     "data": {
      "image/png": "[encoded data removed]",
      "text/plain": [
       "<Figure size 504x504 with 1 Axes>"
      ]
     },
     "metadata": {
      "needs_background": "light"
     },
     "output_type": "display_data"
    }
   ],
   "source": [
    "imgpath = '/Users/Lucas/fits/1131m167_ac51-w1-int-3.fits'\n",
    "hdu = fits.getheader(imgpath)\n",
    "w = wcs.WCS(imgpath).celestial\n",
    "\n",
    "n = 35\n",
    "w.array_shape = (1024*n-1,1024*n-1)\n",
    "w.wcs.crpix = np.array([(w.array_shape[0]+1)/2,(w.array_shape[0]+1)/2])\n",
    "w.wcs.crval = np.array([t1.ra.value,t1.dec.value])\n",
    "\n",
    "srcs = c[:6]\n",
    "\n",
    "#xoffs = [-2.2, 2.2,-2.2, 2.2, 2.2,-2.2]\n",
    "#yoffs = [ 0, 0, 0, 0, 0, 0]\n",
    "\n",
    "fig1 = plt.figure(figsize=(7,7));\n",
    "ax = aplpy.FITSFigure(w, figure=fig1,convention='calabretta')\n",
    "\n",
    "ax.axis_labels.set_font(size='14')\n",
    "ax.tick_labels.set_font(size='14');\n",
    "\n",
    "ax.ax.grid(True)\n",
    "ax.add_scalebar(3*u.deg,'3 deg')\n",
    "\n",
    "ax.show_markers(t1.ra.deg,t1.dec.deg,s=50,marker='o',\n",
    "                edgecolor='red',linewidth=1,fc='blue',zorder=99)\n",
    "ax.show_markers(t2.ra.deg,t2.dec.deg,s=50,marker='o',\n",
    "                edgecolor='blue',linewidth=1,fc='red',zorder=99)\n",
    "\n",
    "ax.show_markers(c1.ra.deg,c1.dec.deg,s=50,\n",
    "                marker='s',edgecolor='k',linewidth=0.5,fc='w',zorder=99);\n",
    "\n",
    "ax.show_markers(I1.ra.deg,I1.dec.deg,s=50,\n",
    "                marker='s',edgecolor='b',linewidth=0.5,fc='b',zorder=99);\n",
    "\n",
    "#for i in range(len(names)):\n",
    "#    ax.add_label(c1[i].ra.deg,c1[i].dec.deg+0.5,names[i])\n"
   ]
  },
  {
   "cell_type": "code",
   "execution_count": 58,
   "metadata": {},
   "outputs": [
    {
     "ename": "NameError",
     "evalue": "name 'icrf3' is not defined",
     "output_type": "error",
     "traceback": [
      "\u001b[0;31m---------------------------------------------------------------------------\u001b[0m",
      "\u001b[0;31mNameError\u001b[0m                                 Traceback (most recent call last)",
      "Cell \u001b[0;32mIn[58], line 1\u001b[0m\n\u001b[0;32m----> 1\u001b[0m \u001b[43micrf3\u001b[49m[ICRF3\u001b[38;5;241m.\u001b[39mseparation(t1)\u001b[38;5;241m.\u001b[39mvalue\u001b[38;5;241m<\u001b[39m\u001b[38;5;241m3\u001b[39m,\u001b[38;5;241m2\u001b[39m]\n",
      "\u001b[0;31mNameError\u001b[0m: name 'icrf3' is not defined"
     ]
    }
   ],
   "source": [
    "icrf3[ICRF3.separation(t1).value<3,2]"
   ]
  },
  {
   "cell_type": "code",
   "execution_count": 55,
   "metadata": {},
   "outputs": [],
   "source": [
    "from astropy.time import Time as aTime\n",
    "import numpy as np\n",
    "\n",
    "with open('loop.txt','r+') as w:\n",
    "    times = np.array(w.readlines())\n",
    "\n"
   ]
  },
  {
   "cell_type": "code",
   "execution_count": 59,
   "metadata": {},
   "outputs": [
    {
     "data": {
      "text/plain": [
       "array([    3.98333333,     4.        ,     4.01666667,     4.03333333,\n",
       "           4.06666667,     4.08333333,     4.13333333,     4.21666667,\n",
       "           4.28333333,     4.38333333,     4.46666667,     4.56666667,\n",
       "           4.66666667,     4.78333333,     4.9       ,     5.01666667,\n",
       "           5.13333333,     5.28333333,     5.36666667,     5.43333334,\n",
       "           5.45      ,     5.38333333,     5.28333333,     5.21666667,\n",
       "           5.16666667,     5.1       ,     5.01666667,     4.91666667,\n",
       "           4.8       ,     4.71666667,     4.61666667,     4.51666666,\n",
       "           4.43333334,     4.35      ,     4.28333333,     4.25      ,\n",
       "           4.25      ,     4.28333333,     4.28333333,     4.31666667,\n",
       "           4.31666667,     4.35      ,     4.36666667,     4.38333333,\n",
       "           4.38333333,     4.45      ,     4.46666667,     4.51666667,\n",
       "           4.55      ,     4.6       ,     4.6       ,     4.65      ,\n",
       "           4.66666667,     4.66666667,     4.7       ,     4.73333333,\n",
       "           4.73333333,     4.75      ,     4.75      ,     4.7       ,\n",
       "           4.68333333,     4.63333333,     4.58333333,     4.56666667,\n",
       "           4.55      ,     4.53333333,     4.5       ,     4.46666667,\n",
       "           4.45      ,     4.4       ,     4.36666667,     4.35      ,\n",
       "           4.3       ,     4.25      ,     4.23333334, -1435.81666667,\n",
       "           4.16666667,     4.15      ,     4.13333333,     4.1       ,\n",
       "           4.08333333,     4.06666667,     4.05      ,     4.03333333,\n",
       "           4.05      ,     4.03333333,     4.01666667,     4.03333333,\n",
       "           4.        ,     4.01666667,     4.        ,     3.98333333,\n",
       "           3.98333333,     3.98333333,     3.96666667,     3.95      ,\n",
       "           3.95      ,     3.93333333,     3.93333333])"
      ]
     },
     "execution_count": 59,
     "metadata": {},
     "output_type": "execute_result"
    }
   ],
   "source": [
    "(np.diff(aTime([datetime.datetime.strptime(s,'%H:%M:%S\\n') for s in times]).mjd)*86400/60)"
   ]
  },
  {
   "cell_type": "code",
   "execution_count": 5,
   "metadata": {},
   "outputs": [],
   "source": [
    "t1 = SkyCoord('16:41:06.05 -47:07:02.5',unit=(u.hourangle,u.degree)) "
   ]
  },
  {
   "cell_type": "code",
   "execution_count": 27,
   "metadata": {},
   "outputs": [],
   "source": [
    "with open('FringeFindersSpirals.txt','r+') as w:\n",
    "    ffs = np.array([s.split()[0:3] for s in w.readlines()[6:]])"
   ]
  },
  {
   "cell_type": "code",
   "execution_count": 48,
   "metadata": {},
   "outputs": [
    {
     "data": {
      "text/plain": [
       "array([180.23888461, 166.32570696, 165.59312037, 160.94847277,\n",
       "       123.62850206, 124.0489553 , 109.81314179,  83.40540557,\n",
       "        74.05795821,  69.78303633,  57.18416514,  33.66580089,\n",
       "        36.43007796,  46.04905264,  46.22214837,  44.67012633,\n",
       "       135.81822191, 134.77654842, 130.49556638, 128.14523218,\n",
       "       126.19160954, 118.38852197, 117.414585  , 117.61147027,\n",
       "       114.53296622, 109.8131418 , 106.00736778,  98.76824779,\n",
       "        96.58554157,  90.80943566,  89.84084658,  89.63921167,\n",
       "        87.73806773,  86.12979985,  81.27985403,  78.15118805,\n",
       "        79.19421974,  76.27069544,  75.27292989,  66.13636947,\n",
       "        60.66728941,  61.61509717,  54.99016873,  48.91784227,\n",
       "        48.8596312 ,  49.23086494,  45.55288782,  23.27793134,\n",
       "        24.02559694,  21.61948271,  23.23427332,  17.80569038,\n",
       "        17.99737428,  16.31217604,   9.4620205 ,  10.48549131,\n",
       "        13.11279691,  15.07072028,  14.21482391,  17.55108014,\n",
       "         4.29360536,  21.512678  ,  10.59111657,  21.70611491,\n",
       "        16.27552099,  21.71974295])"
      ]
     },
     "execution_count": 48,
     "metadata": {},
     "output_type": "execute_result"
    }
   ],
   "source": [
    "((ffs[:,1:3].astype(float) - [t1.ra.deg,t1.dec.deg])**2).sum(1)**0.5"
   ]
  },
  {
   "cell_type": "code",
   "execution_count": null,
   "metadata": {},
   "outputs": [],
   "source": []
  }
 ],
 "metadata": {
  "kernelspec": {
   "display_name": "Python 3",
   "language": "python",
   "name": "python3"
  },
  "language_info": {
   "codemirror_mode": {
    "name": "ipython",
    "version": 3
   },
   "file_extension": ".py",
   "mimetype": "text/x-python",
   "name": "python",
   "nbconvert_exporter": "python",
   "pygments_lexer": "ipython3",
   "version": "3.10.13"
  }
 },
 "nbformat": 4,
 "nbformat_minor": 4
}
